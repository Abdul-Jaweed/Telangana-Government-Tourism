{
 "cells": [
  {
   "cell_type": "markdown",
   "id": "c2366e2a",
   "metadata": {},
   "source": [
    "**Importing Libraries**"
   ]
  },
  {
   "cell_type": "code",
   "execution_count": 1,
   "id": "131bcd32",
   "metadata": {},
   "outputs": [],
   "source": [
    "import numpy as np\n",
    "import pandas as pd\n",
    "import matplotlib.pyplot as plt\n",
    "import seaborn as sns"
   ]
  },
  {
   "cell_type": "markdown",
   "id": "35abf448",
   "metadata": {},
   "source": [
    "**Loading Dataset**"
   ]
  },
  {
   "cell_type": "code",
   "execution_count": 2,
   "id": "f5992571",
   "metadata": {},
   "outputs": [],
   "source": [
    "df = pd.read_csv(\"foreign_visitors_2016.csv\")\n",
    "df1 = pd.read_csv(\"foreign_visitors_2017.csv\")\n",
    "df2 = pd.read_csv(\"foreign_visitors_2018.csv\")\n",
    "df3 = pd.read_csv(\"foreign_visitors_2019.csv\")"
   ]
  },
  {
   "cell_type": "markdown",
   "id": "92b45bd9",
   "metadata": {},
   "source": [
    "**Creating Helping Functions**"
   ]
  },
  {
   "cell_type": "code",
   "execution_count": 3,
   "id": "d648e587",
   "metadata": {},
   "outputs": [],
   "source": [
    "def head(n):\n",
    "    return n.head()\n",
    "\n",
    "def shape(n):\n",
    "    return n.shape\n",
    "\n",
    "def null(n):\n",
    "    return n.isnull().sum()\n",
    "\n",
    "def inf(n):\n",
    "    n.info()\n",
    "\n",
    "def dupli(n):\n",
    "    return n.duplicated().sum()\n",
    "\n",
    "def drpna(n):\n",
    "    n.dropna(inplace=True)"
   ]
  },
  {
   "cell_type": "markdown",
   "id": "9d572afb",
   "metadata": {},
   "source": [
    "**Top 5 Rows of all Dataset**"
   ]
  },
  {
   "cell_type": "code",
   "execution_count": 4,
   "id": "70936a99",
   "metadata": {},
   "outputs": [
    {
     "name": "stdout",
     "output_type": "stream",
     "text": [
      "2016 \n",
      "    district        date     month  year visitors\n",
      "0  Adilabad  01-01-2016   January  2016        2\n",
      "1  Adilabad  01-02-2016  February  2016        0\n",
      "2  Adilabad  01-03-2016     March  2016        2\n",
      "3  Adilabad  01-04-2016     April  2016        0\n",
      "4  Adilabad  01-05-2016       May  2016        0\n",
      "\n",
      "\n",
      "2017 \n",
      "    district        date     month  year visitors\n",
      "0  Adilabad  01-01-2017   January  2017        5\n",
      "1  Adilabad  01-02-2017  February  2017        0\n",
      "2  Adilabad  01-03-2017     March  2017        0\n",
      "3  Adilabad  01-04-2017     April  2017        0\n",
      "4  Adilabad  01-05-2017       May  2017        0\n",
      "\n",
      "\n",
      "2018 \n",
      "    district        date     month  year visitors\n",
      "0  Adilabad  01-01-2018   January  2018        0\n",
      "1  Adilabad  01-02-2018  February  2018        0\n",
      "2  Adilabad  01-03-2018     March  2018        0\n",
      "3  Adilabad  01-04-2018     April  2018        0\n",
      "4  Adilabad  01-05-2018       May  2018        0\n",
      "\n",
      "\n",
      "2019 \n",
      "    district        date     month  year visitors\n",
      "0  Adilabad  01-01-2019   January  2019        0\n",
      "1  Adilabad  01-02-2019  February  2019        2\n",
      "2  Adilabad  01-03-2019     March  2019        0\n",
      "3  Adilabad  01-04-2019     April  2019        0\n",
      "4  Adilabad  01-05-2019       May  2019        0\n"
     ]
    }
   ],
   "source": [
    "print(\"2016 \\n\", head(df))\n",
    "print(\"\\n\")\n",
    "print(\"2017 \\n\", head(df1))\n",
    "print(\"\\n\")\n",
    "print(\"2018 \\n\", head(df2))\n",
    "print(\"\\n\")\n",
    "print(\"2019 \\n\", head(df3))"
   ]
  },
  {
   "cell_type": "markdown",
   "id": "f68055c4",
   "metadata": {},
   "source": [
    "**Printing Total Rows and Columns of All Dataset**"
   ]
  },
  {
   "cell_type": "code",
   "execution_count": 5,
   "id": "1d621e80",
   "metadata": {},
   "outputs": [
    {
     "name": "stdout",
     "output_type": "stream",
     "text": [
      "2016 \n",
      "\n",
      "Total Number of Rows    :  372\n",
      "Total Number of Columns :  5\n",
      "\n",
      "\n",
      "2017 \n",
      "\n",
      "Total Number of Rows    :  372\n",
      "Total Number of Columns :  5\n",
      "\n",
      "\n",
      "2018 \n",
      "\n",
      "Total Number of Rows    :  372\n",
      "Total Number of Columns :  5\n",
      "\n",
      "\n",
      "2019 \n",
      "\n",
      "Total Number of Rows    :  396\n",
      "Total Number of Columns :  5\n"
     ]
    }
   ],
   "source": [
    "print(\"2016 \\n\")\n",
    "print(\"Total Number of Rows    : \", df.shape[0])\n",
    "print(\"Total Number of Columns : \", df.shape[1])\n",
    "print(\"\\n\")\n",
    "\n",
    "print(\"2017 \\n\")\n",
    "print(\"Total Number of Rows    : \", df1.shape[0])\n",
    "print(\"Total Number of Columns : \", df1.shape[1])\n",
    "print(\"\\n\")\n",
    "\n",
    "print(\"2018 \\n\")\n",
    "print(\"Total Number of Rows    : \", df2.shape[0])\n",
    "print(\"Total Number of Columns : \", df2.shape[1])\n",
    "print(\"\\n\")\n",
    "\n",
    "print(\"2019 \\n\")\n",
    "print(\"Total Number of Rows    : \", df3.shape[0])\n",
    "print(\"Total Number of Columns : \", df3.shape[1])"
   ]
  },
  {
   "cell_type": "markdown",
   "id": "ac374113",
   "metadata": {},
   "source": [
    "**Printing the Null Values of All Dataset**"
   ]
  },
  {
   "cell_type": "code",
   "execution_count": 6,
   "id": "83149866",
   "metadata": {},
   "outputs": [
    {
     "name": "stdout",
     "output_type": "stream",
     "text": [
      "2016 \n",
      "\n",
      "district    0\n",
      "date        0\n",
      "month       0\n",
      "year        0\n",
      "visitors    0\n",
      "dtype: int64\n",
      "\n",
      "\n",
      "2017 \n",
      "\n",
      "district    0\n",
      "date        0\n",
      "month       0\n",
      "year        0\n",
      "visitors    0\n",
      "dtype: int64\n",
      "\n",
      "\n",
      "2018 \n",
      "\n",
      "district    0\n",
      "date        0\n",
      "month       0\n",
      "year        0\n",
      "visitors    0\n",
      "dtype: int64\n",
      "\n",
      "\n",
      "2019 \n",
      "\n",
      "district    0\n",
      "date        0\n",
      "month       0\n",
      "year        0\n",
      "visitors    0\n",
      "dtype: int64\n"
     ]
    }
   ],
   "source": [
    "print(\"2016 \\n\")\n",
    "print(null(df))\n",
    "print(\"\\n\")\n",
    "\n",
    "print(\"2017 \\n\")\n",
    "print(null(df1))\n",
    "print(\"\\n\")\n",
    "\n",
    "print(\"2018 \\n\")\n",
    "print(null(df2))\n",
    "print(\"\\n\")\n",
    "\n",
    "print(\"2019 \\n\")\n",
    "print(null(df3))"
   ]
  },
  {
   "cell_type": "markdown",
   "id": "5e09f7c1",
   "metadata": {},
   "source": [
    "**Printing the Duplicates Values**"
   ]
  },
  {
   "cell_type": "code",
   "execution_count": 7,
   "id": "84acc6f3",
   "metadata": {},
   "outputs": [
    {
     "name": "stdout",
     "output_type": "stream",
     "text": [
      "2016 \n",
      " 0\n",
      "2017 \n",
      " 0\n",
      "2018 \n",
      " 0\n",
      "2019 \n",
      " 0\n"
     ]
    }
   ],
   "source": [
    "print(\"2016 \\n\",dupli(df))\n",
    "print(\"2017 \\n\",dupli(df1))\n",
    "print(\"2018 \\n\",dupli(df2))\n",
    "print(\"2019 \\n\",dupli(df3))"
   ]
  },
  {
   "cell_type": "markdown",
   "id": "3c02db1e",
   "metadata": {},
   "source": [
    "**Removing the White Space**"
   ]
  },
  {
   "cell_type": "code",
   "execution_count": 8,
   "id": "fd2c72f0",
   "metadata": {},
   "outputs": [],
   "source": [
    "df.visitors = df.visitors.str.replace(' ','')\n",
    "df1.visitors = df1.visitors.str.replace(' ','')\n",
    "df2.visitors = df2.visitors.str.replace(' ','')\n",
    "df3.visitors = df3.visitors.str.replace(' ','')"
   ]
  },
  {
   "cell_type": "markdown",
   "id": "a5b96a43",
   "metadata": {},
   "source": [
    "**Converting the dtypes of columns**"
   ]
  },
  {
   "cell_type": "code",
   "execution_count": 9,
   "id": "8176e9a2",
   "metadata": {},
   "outputs": [],
   "source": [
    "df['date'] = pd.to_datetime(df['date'])\n",
    "df1['date'] = pd.to_datetime(df1['date'])\n",
    "df2['date'] = pd.to_datetime(df2['date'])\n",
    "df3['date'] = pd.to_datetime(df3['date'])\n",
    "\n",
    "\n",
    "df['year'] = df['year'].astype('int32')\n",
    "df1['year'] = df1['year'].astype('int32')\n",
    "df2['year'] = df2['year'].astype('int32')\n",
    "df3['year'] = df3['year'].astype('int32')"
   ]
  },
  {
   "cell_type": "code",
   "execution_count": 10,
   "id": "319d2366",
   "metadata": {},
   "outputs": [],
   "source": [
    "df['visitors'] = pd.to_numeric(df['visitors'], errors='coerce')\n",
    "df1['visitors'] = pd.to_numeric(df1['visitors'], errors='coerce')\n",
    "df2['visitors'] = pd.to_numeric(df2['visitors'], errors='coerce')\n",
    "df3['visitors'] = pd.to_numeric(df3['visitors'], errors='coerce')"
   ]
  },
  {
   "cell_type": "code",
   "execution_count": 11,
   "id": "6522049b",
   "metadata": {},
   "outputs": [],
   "source": [
    "# replace NaN and inf values with zero\n",
    "\n",
    "df['visitors'] = df['visitors'].replace([np.nan, np.inf], 0)\n",
    "df1['visitors'] = df1['visitors'].replace([np.nan, np.inf], 0)\n",
    "df2['visitors'] = df2['visitors'].replace([np.nan, np.inf], 0)\n",
    "df3['visitors'] = df3['visitors'].replace([np.nan, np.inf], 0)"
   ]
  },
  {
   "cell_type": "code",
   "execution_count": 12,
   "id": "c01761d5",
   "metadata": {},
   "outputs": [],
   "source": [
    "# cast the column to int32\n",
    "\n",
    "df['visitors'] = df['visitors'].astype('int32')\n",
    "df1['visitors'] = df1['visitors'].astype('int32')\n",
    "df2['visitors'] = df2['visitors'].astype('int32')\n",
    "df3['visitors'] = df3['visitors'].astype('int32')"
   ]
  },
  {
   "cell_type": "markdown",
   "id": "7f428092",
   "metadata": {},
   "source": [
    "**Printing the Information of the Dataset**"
   ]
  },
  {
   "cell_type": "code",
   "execution_count": 13,
   "id": "779b6aa5",
   "metadata": {},
   "outputs": [
    {
     "name": "stdout",
     "output_type": "stream",
     "text": [
      "2016 \n",
      "\n",
      "<class 'pandas.core.frame.DataFrame'>\n",
      "RangeIndex: 372 entries, 0 to 371\n",
      "Data columns (total 5 columns):\n",
      " #   Column    Non-Null Count  Dtype         \n",
      "---  ------    --------------  -----         \n",
      " 0   district  372 non-null    object        \n",
      " 1   date      372 non-null    datetime64[ns]\n",
      " 2   month     372 non-null    object        \n",
      " 3   year      372 non-null    int32         \n",
      " 4   visitors  372 non-null    int32         \n",
      "dtypes: datetime64[ns](1), int32(2), object(2)\n",
      "memory usage: 11.8+ KB\n",
      "None\n",
      "\n",
      "\n",
      "2017 \n",
      "\n",
      "<class 'pandas.core.frame.DataFrame'>\n",
      "RangeIndex: 372 entries, 0 to 371\n",
      "Data columns (total 5 columns):\n",
      " #   Column    Non-Null Count  Dtype         \n",
      "---  ------    --------------  -----         \n",
      " 0   district  372 non-null    object        \n",
      " 1   date      372 non-null    datetime64[ns]\n",
      " 2   month     372 non-null    object        \n",
      " 3   year      372 non-null    int32         \n",
      " 4   visitors  372 non-null    int32         \n",
      "dtypes: datetime64[ns](1), int32(2), object(2)\n",
      "memory usage: 11.8+ KB\n",
      "None\n",
      "\n",
      "\n",
      "2018 \n",
      "\n",
      "<class 'pandas.core.frame.DataFrame'>\n",
      "RangeIndex: 372 entries, 0 to 371\n",
      "Data columns (total 5 columns):\n",
      " #   Column    Non-Null Count  Dtype         \n",
      "---  ------    --------------  -----         \n",
      " 0   district  372 non-null    object        \n",
      " 1   date      372 non-null    datetime64[ns]\n",
      " 2   month     372 non-null    object        \n",
      " 3   year      372 non-null    int32         \n",
      " 4   visitors  372 non-null    int32         \n",
      "dtypes: datetime64[ns](1), int32(2), object(2)\n",
      "memory usage: 11.8+ KB\n",
      "None\n",
      "\n",
      "\n",
      "2019 \n",
      "\n",
      "<class 'pandas.core.frame.DataFrame'>\n",
      "RangeIndex: 396 entries, 0 to 395\n",
      "Data columns (total 5 columns):\n",
      " #   Column    Non-Null Count  Dtype         \n",
      "---  ------    --------------  -----         \n",
      " 0   district  396 non-null    object        \n",
      " 1   date      396 non-null    datetime64[ns]\n",
      " 2   month     396 non-null    object        \n",
      " 3   year      396 non-null    int32         \n",
      " 4   visitors  396 non-null    int32         \n",
      "dtypes: datetime64[ns](1), int32(2), object(2)\n",
      "memory usage: 12.5+ KB\n",
      "None\n"
     ]
    }
   ],
   "source": [
    "print(\"2016 \\n\")\n",
    "print(inf(df))\n",
    "print(\"\\n\")\n",
    "\n",
    "print(\"2017 \\n\")\n",
    "print(inf(df1))\n",
    "print(\"\\n\")\n",
    "\n",
    "print(\"2018 \\n\")\n",
    "print(inf(df2))\n",
    "print(\"\\n\")\n",
    "\n",
    "print(\"2019 \\n\")\n",
    "print(inf(df3))"
   ]
  },
  {
   "cell_type": "markdown",
   "id": "3469417f",
   "metadata": {},
   "source": [
    "**Merging all Dataset into one Dataset named Domestic_Visitors**"
   ]
  },
  {
   "cell_type": "code",
   "execution_count": 14,
   "id": "1a536a89",
   "metadata": {},
   "outputs": [],
   "source": [
    "Foreign_Visitors = pd.concat([df,df1, df2,df3], axis=0)"
   ]
  },
  {
   "cell_type": "code",
   "execution_count": 15,
   "id": "de5882f8",
   "metadata": {},
   "outputs": [
    {
     "data": {
      "text/html": [
       "<div>\n",
       "<style scoped>\n",
       "    .dataframe tbody tr th:only-of-type {\n",
       "        vertical-align: middle;\n",
       "    }\n",
       "\n",
       "    .dataframe tbody tr th {\n",
       "        vertical-align: top;\n",
       "    }\n",
       "\n",
       "    .dataframe thead th {\n",
       "        text-align: right;\n",
       "    }\n",
       "</style>\n",
       "<table border=\"1\" class=\"dataframe\">\n",
       "  <thead>\n",
       "    <tr style=\"text-align: right;\">\n",
       "      <th></th>\n",
       "      <th>district</th>\n",
       "      <th>date</th>\n",
       "      <th>month</th>\n",
       "      <th>year</th>\n",
       "      <th>visitors</th>\n",
       "    </tr>\n",
       "  </thead>\n",
       "  <tbody>\n",
       "    <tr>\n",
       "      <th>0</th>\n",
       "      <td>Adilabad</td>\n",
       "      <td>2016-01-01</td>\n",
       "      <td>January</td>\n",
       "      <td>2016</td>\n",
       "      <td>2</td>\n",
       "    </tr>\n",
       "    <tr>\n",
       "      <th>1</th>\n",
       "      <td>Adilabad</td>\n",
       "      <td>2016-01-02</td>\n",
       "      <td>February</td>\n",
       "      <td>2016</td>\n",
       "      <td>0</td>\n",
       "    </tr>\n",
       "    <tr>\n",
       "      <th>2</th>\n",
       "      <td>Adilabad</td>\n",
       "      <td>2016-01-03</td>\n",
       "      <td>March</td>\n",
       "      <td>2016</td>\n",
       "      <td>2</td>\n",
       "    </tr>\n",
       "    <tr>\n",
       "      <th>3</th>\n",
       "      <td>Adilabad</td>\n",
       "      <td>2016-01-04</td>\n",
       "      <td>April</td>\n",
       "      <td>2016</td>\n",
       "      <td>0</td>\n",
       "    </tr>\n",
       "    <tr>\n",
       "      <th>4</th>\n",
       "      <td>Adilabad</td>\n",
       "      <td>2016-01-05</td>\n",
       "      <td>May</td>\n",
       "      <td>2016</td>\n",
       "      <td>0</td>\n",
       "    </tr>\n",
       "  </tbody>\n",
       "</table>\n",
       "</div>"
      ],
      "text/plain": [
       "   district       date     month  year  visitors\n",
       "0  Adilabad 2016-01-01   January  2016         2\n",
       "1  Adilabad 2016-01-02  February  2016         0\n",
       "2  Adilabad 2016-01-03     March  2016         2\n",
       "3  Adilabad 2016-01-04     April  2016         0\n",
       "4  Adilabad 2016-01-05       May  2016         0"
      ]
     },
     "execution_count": 15,
     "metadata": {},
     "output_type": "execute_result"
    }
   ],
   "source": [
    "# Printing the Top 5 Rows of Dataset\n",
    "\n",
    "head(Foreign_Visitors)"
   ]
  },
  {
   "cell_type": "code",
   "execution_count": 16,
   "id": "f2b08cbf",
   "metadata": {},
   "outputs": [
    {
     "data": {
      "text/html": [
       "<div>\n",
       "<style scoped>\n",
       "    .dataframe tbody tr th:only-of-type {\n",
       "        vertical-align: middle;\n",
       "    }\n",
       "\n",
       "    .dataframe tbody tr th {\n",
       "        vertical-align: top;\n",
       "    }\n",
       "\n",
       "    .dataframe thead th {\n",
       "        text-align: right;\n",
       "    }\n",
       "</style>\n",
       "<table border=\"1\" class=\"dataframe\">\n",
       "  <thead>\n",
       "    <tr style=\"text-align: right;\">\n",
       "      <th></th>\n",
       "      <th>district</th>\n",
       "      <th>date</th>\n",
       "      <th>month</th>\n",
       "      <th>year</th>\n",
       "      <th>visitors</th>\n",
       "    </tr>\n",
       "  </thead>\n",
       "  <tbody>\n",
       "    <tr>\n",
       "      <th>391</th>\n",
       "      <td>Yadadri Bhongir</td>\n",
       "      <td>2019-01-08</td>\n",
       "      <td>August</td>\n",
       "      <td>2019</td>\n",
       "      <td>0</td>\n",
       "    </tr>\n",
       "    <tr>\n",
       "      <th>392</th>\n",
       "      <td>Yadadri Bhongir</td>\n",
       "      <td>2019-01-09</td>\n",
       "      <td>September</td>\n",
       "      <td>2019</td>\n",
       "      <td>0</td>\n",
       "    </tr>\n",
       "    <tr>\n",
       "      <th>393</th>\n",
       "      <td>Yadadri Bhongir</td>\n",
       "      <td>2019-01-10</td>\n",
       "      <td>October</td>\n",
       "      <td>2019</td>\n",
       "      <td>0</td>\n",
       "    </tr>\n",
       "    <tr>\n",
       "      <th>394</th>\n",
       "      <td>Yadadri Bhongir</td>\n",
       "      <td>2019-01-11</td>\n",
       "      <td>November</td>\n",
       "      <td>2019</td>\n",
       "      <td>0</td>\n",
       "    </tr>\n",
       "    <tr>\n",
       "      <th>395</th>\n",
       "      <td>Yadadri Bhongir</td>\n",
       "      <td>2019-01-12</td>\n",
       "      <td>December</td>\n",
       "      <td>2019</td>\n",
       "      <td>0</td>\n",
       "    </tr>\n",
       "  </tbody>\n",
       "</table>\n",
       "</div>"
      ],
      "text/plain": [
       "            district       date      month  year  visitors\n",
       "391  Yadadri Bhongir 2019-01-08     August  2019         0\n",
       "392  Yadadri Bhongir 2019-01-09  September  2019         0\n",
       "393  Yadadri Bhongir 2019-01-10    October  2019         0\n",
       "394  Yadadri Bhongir 2019-01-11   November  2019         0\n",
       "395  Yadadri Bhongir 2019-01-12   December  2019         0"
      ]
     },
     "execution_count": 16,
     "metadata": {},
     "output_type": "execute_result"
    }
   ],
   "source": [
    "# Printing the Last 5 Rows of Dataset\n",
    "\n",
    "Foreign_Visitors.tail()"
   ]
  },
  {
   "cell_type": "code",
   "execution_count": 17,
   "id": "3d8b81f3",
   "metadata": {},
   "outputs": [
    {
     "data": {
      "text/html": [
       "<div>\n",
       "<style scoped>\n",
       "    .dataframe tbody tr th:only-of-type {\n",
       "        vertical-align: middle;\n",
       "    }\n",
       "\n",
       "    .dataframe tbody tr th {\n",
       "        vertical-align: top;\n",
       "    }\n",
       "\n",
       "    .dataframe thead th {\n",
       "        text-align: right;\n",
       "    }\n",
       "</style>\n",
       "<table border=\"1\" class=\"dataframe\">\n",
       "  <thead>\n",
       "    <tr style=\"text-align: right;\">\n",
       "      <th></th>\n",
       "      <th>district</th>\n",
       "      <th>date</th>\n",
       "      <th>month</th>\n",
       "      <th>year</th>\n",
       "      <th>visitors</th>\n",
       "    </tr>\n",
       "  </thead>\n",
       "  <tbody>\n",
       "    <tr>\n",
       "      <th>129</th>\n",
       "      <td>Komaram Bheem Asifabad</td>\n",
       "      <td>2019-01-10</td>\n",
       "      <td>October</td>\n",
       "      <td>2019</td>\n",
       "      <td>0</td>\n",
       "    </tr>\n",
       "    <tr>\n",
       "      <th>159</th>\n",
       "      <td>Mancherial</td>\n",
       "      <td>2016-01-04</td>\n",
       "      <td>April</td>\n",
       "      <td>2016</td>\n",
       "      <td>0</td>\n",
       "    </tr>\n",
       "    <tr>\n",
       "      <th>352</th>\n",
       "      <td>Warangal (Urban)</td>\n",
       "      <td>2017-01-05</td>\n",
       "      <td>May</td>\n",
       "      <td>2017</td>\n",
       "      <td>211</td>\n",
       "    </tr>\n",
       "    <tr>\n",
       "      <th>280</th>\n",
       "      <td>Sangareddy</td>\n",
       "      <td>2018-01-05</td>\n",
       "      <td>May</td>\n",
       "      <td>2018</td>\n",
       "      <td>0</td>\n",
       "    </tr>\n",
       "    <tr>\n",
       "      <th>160</th>\n",
       "      <td>Mancherial</td>\n",
       "      <td>2017-01-05</td>\n",
       "      <td>May</td>\n",
       "      <td>2017</td>\n",
       "      <td>0</td>\n",
       "    </tr>\n",
       "    <tr>\n",
       "      <th>125</th>\n",
       "      <td>Komaram Bheem Asifabad</td>\n",
       "      <td>2019-01-06</td>\n",
       "      <td>June</td>\n",
       "      <td>2019</td>\n",
       "      <td>0</td>\n",
       "    </tr>\n",
       "    <tr>\n",
       "      <th>79</th>\n",
       "      <td>Jogulamba Gadwal</td>\n",
       "      <td>2016-01-08</td>\n",
       "      <td>August</td>\n",
       "      <td>2016</td>\n",
       "      <td>0</td>\n",
       "    </tr>\n",
       "    <tr>\n",
       "      <th>306</th>\n",
       "      <td>Suryapet</td>\n",
       "      <td>2017-01-07</td>\n",
       "      <td>July</td>\n",
       "      <td>2017</td>\n",
       "      <td>0</td>\n",
       "    </tr>\n",
       "    <tr>\n",
       "      <th>23</th>\n",
       "      <td>Bhadradri Kothagudem</td>\n",
       "      <td>2016-01-12</td>\n",
       "      <td>December</td>\n",
       "      <td>2016</td>\n",
       "      <td>0</td>\n",
       "    </tr>\n",
       "    <tr>\n",
       "      <th>351</th>\n",
       "      <td>Warangal (Urban)</td>\n",
       "      <td>2016-01-04</td>\n",
       "      <td>April</td>\n",
       "      <td>2016</td>\n",
       "      <td>39</td>\n",
       "    </tr>\n",
       "  </tbody>\n",
       "</table>\n",
       "</div>"
      ],
      "text/plain": [
       "                   district       date     month  year  visitors\n",
       "129  Komaram Bheem Asifabad 2019-01-10   October  2019         0\n",
       "159              Mancherial 2016-01-04     April  2016         0\n",
       "352        Warangal (Urban) 2017-01-05       May  2017       211\n",
       "280             Sangareddy  2018-01-05       May  2018         0\n",
       "160              Mancherial 2017-01-05       May  2017         0\n",
       "125  Komaram Bheem Asifabad 2019-01-06      June  2019         0\n",
       "79        Jogulamba Gadwal  2016-01-08    August  2016         0\n",
       "306                Suryapet 2017-01-07      July  2017         0\n",
       "23    Bhadradri Kothagudem  2016-01-12  December  2016         0\n",
       "351        Warangal (Urban) 2016-01-04     April  2016        39"
      ]
     },
     "execution_count": 17,
     "metadata": {},
     "output_type": "execute_result"
    }
   ],
   "source": [
    "# Printing the Random 10 Rows of Datset\n",
    "\n",
    "Foreign_Visitors.sample(10)"
   ]
  },
  {
   "cell_type": "code",
   "execution_count": 18,
   "id": "30d96251",
   "metadata": {},
   "outputs": [
    {
     "name": "stdout",
     "output_type": "stream",
     "text": [
      "Total Number of Rows    :  1512\n",
      "Total Number of Columns :  5\n"
     ]
    }
   ],
   "source": [
    "# Printing Total Numbers of Rows and Columns\n",
    "\n",
    "\n",
    "print(\"Total Number of Rows    : \" , Foreign_Visitors.shape[0])\n",
    "print(\"Total Number of Columns : \" , Foreign_Visitors.shape[1])"
   ]
  },
  {
   "cell_type": "code",
   "execution_count": 19,
   "id": "22384e7a",
   "metadata": {},
   "outputs": [
    {
     "data": {
      "text/plain": [
       "district    0\n",
       "date        0\n",
       "month       0\n",
       "year        0\n",
       "visitors    0\n",
       "dtype: int64"
      ]
     },
     "execution_count": 19,
     "metadata": {},
     "output_type": "execute_result"
    }
   ],
   "source": [
    "# Printing the Null Values of the Dataset\n",
    "\n",
    "null(Foreign_Visitors)"
   ]
  },
  {
   "cell_type": "code",
   "execution_count": 20,
   "id": "b7307c8e",
   "metadata": {},
   "outputs": [
    {
     "data": {
      "text/plain": [
       "0"
      ]
     },
     "execution_count": 20,
     "metadata": {},
     "output_type": "execute_result"
    }
   ],
   "source": [
    "# Printing the Duplicated Values\n",
    "\n",
    "dupli(Foreign_Visitors)"
   ]
  },
  {
   "cell_type": "code",
   "execution_count": 21,
   "id": "ce6cc40e",
   "metadata": {},
   "outputs": [],
   "source": [
    "# Saving the Domestic_Visitors.csv file\n",
    "\n",
    "Foreign_Visitors.to_csv(\"foreign_visitors.csv\",index=False)"
   ]
  },
  {
   "cell_type": "code",
   "execution_count": 22,
   "id": "08b4bca4",
   "metadata": {},
   "outputs": [
    {
     "data": {
      "text/html": [
       "<div>\n",
       "<style scoped>\n",
       "    .dataframe tbody tr th:only-of-type {\n",
       "        vertical-align: middle;\n",
       "    }\n",
       "\n",
       "    .dataframe tbody tr th {\n",
       "        vertical-align: top;\n",
       "    }\n",
       "\n",
       "    .dataframe thead th {\n",
       "        text-align: right;\n",
       "    }\n",
       "</style>\n",
       "<table border=\"1\" class=\"dataframe\">\n",
       "  <thead>\n",
       "    <tr style=\"text-align: right;\">\n",
       "      <th></th>\n",
       "      <th>district</th>\n",
       "      <th>date</th>\n",
       "      <th>month</th>\n",
       "      <th>year</th>\n",
       "      <th>visitors</th>\n",
       "    </tr>\n",
       "  </thead>\n",
       "  <tbody>\n",
       "    <tr>\n",
       "      <th>0</th>\n",
       "      <td>Adilabad</td>\n",
       "      <td>2016-01-01</td>\n",
       "      <td>January</td>\n",
       "      <td>2016</td>\n",
       "      <td>2</td>\n",
       "    </tr>\n",
       "    <tr>\n",
       "      <th>1</th>\n",
       "      <td>Adilabad</td>\n",
       "      <td>2016-01-02</td>\n",
       "      <td>February</td>\n",
       "      <td>2016</td>\n",
       "      <td>0</td>\n",
       "    </tr>\n",
       "    <tr>\n",
       "      <th>2</th>\n",
       "      <td>Adilabad</td>\n",
       "      <td>2016-01-03</td>\n",
       "      <td>March</td>\n",
       "      <td>2016</td>\n",
       "      <td>2</td>\n",
       "    </tr>\n",
       "    <tr>\n",
       "      <th>3</th>\n",
       "      <td>Adilabad</td>\n",
       "      <td>2016-01-04</td>\n",
       "      <td>April</td>\n",
       "      <td>2016</td>\n",
       "      <td>0</td>\n",
       "    </tr>\n",
       "    <tr>\n",
       "      <th>4</th>\n",
       "      <td>Adilabad</td>\n",
       "      <td>2016-01-05</td>\n",
       "      <td>May</td>\n",
       "      <td>2016</td>\n",
       "      <td>0</td>\n",
       "    </tr>\n",
       "  </tbody>\n",
       "</table>\n",
       "</div>"
      ],
      "text/plain": [
       "   district        date     month  year  visitors\n",
       "0  Adilabad  2016-01-01   January  2016         2\n",
       "1  Adilabad  2016-01-02  February  2016         0\n",
       "2  Adilabad  2016-01-03     March  2016         2\n",
       "3  Adilabad  2016-01-04     April  2016         0\n",
       "4  Adilabad  2016-01-05       May  2016         0"
      ]
     },
     "execution_count": 22,
     "metadata": {},
     "output_type": "execute_result"
    }
   ],
   "source": [
    "data = pd.read_csv(\"foreign_visitors.csv\")\n",
    "data.head()"
   ]
  },
  {
   "cell_type": "code",
   "execution_count": 23,
   "id": "26f280f5",
   "metadata": {},
   "outputs": [
    {
     "data": {
      "text/plain": [
       "(1512, 5)"
      ]
     },
     "execution_count": 23,
     "metadata": {},
     "output_type": "execute_result"
    }
   ],
   "source": [
    "data.shape"
   ]
  },
  {
   "cell_type": "code",
   "execution_count": 24,
   "id": "e0a600fd",
   "metadata": {},
   "outputs": [
    {
     "data": {
      "text/plain": [
       "district    0\n",
       "date        0\n",
       "month       0\n",
       "year        0\n",
       "visitors    0\n",
       "dtype: int64"
      ]
     },
     "execution_count": 24,
     "metadata": {},
     "output_type": "execute_result"
    }
   ],
   "source": [
    "data.isnull().sum()"
   ]
  },
  {
   "cell_type": "code",
   "execution_count": null,
   "id": "7819a3ec",
   "metadata": {},
   "outputs": [],
   "source": []
  },
  {
   "cell_type": "code",
   "execution_count": null,
   "id": "9f31a032",
   "metadata": {},
   "outputs": [],
   "source": []
  }
 ],
 "metadata": {
  "kernelspec": {
   "display_name": "Python 3 (ipykernel)",
   "language": "python",
   "name": "python3"
  },
  "language_info": {
   "codemirror_mode": {
    "name": "ipython",
    "version": 3
   },
   "file_extension": ".py",
   "mimetype": "text/x-python",
   "name": "python",
   "nbconvert_exporter": "python",
   "pygments_lexer": "ipython3",
   "version": "3.10.7"
  }
 },
 "nbformat": 4,
 "nbformat_minor": 5
}
