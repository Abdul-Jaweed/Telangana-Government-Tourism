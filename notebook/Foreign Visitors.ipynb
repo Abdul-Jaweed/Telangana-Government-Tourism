{
 "cells": [
  {
   "cell_type": "code",
   "execution_count": 171,
   "id": "131bcd32",
   "metadata": {},
   "outputs": [],
   "source": [
    "import numpy as np\n",
    "import pandas as pd\n",
    "import matplotlib.pyplot as plt\n",
    "import seaborn as sns"
   ]
  },
  {
   "cell_type": "code",
   "execution_count": 172,
   "id": "f5992571",
   "metadata": {},
   "outputs": [],
   "source": [
    "df = pd.read_csv(\"foreign_visitors_2016.csv\")\n",
    "df1 = pd.read_csv(\"foreign_visitors_2017.csv\")\n",
    "df2 = pd.read_csv(\"foreign_visitors_2018.csv\")\n",
    "df3 = pd.read_csv(\"foreign_visitors_2019.csv\")"
   ]
  },
  {
   "cell_type": "code",
   "execution_count": 173,
   "id": "d648e587",
   "metadata": {},
   "outputs": [],
   "source": [
    "def head(n):\n",
    "    return n.head()\n",
    "\n",
    "def shape(n):\n",
    "    return n.shape\n",
    "\n",
    "def null(n):\n",
    "    return n.isnull().sum()\n",
    "\n",
    "def dupli(n):\n",
    "    return n.duplicated().sum()\n",
    "\n",
    "def info(n):\n",
    "    return n.info()"
   ]
  },
  {
   "cell_type": "code",
   "execution_count": 174,
   "id": "70936a99",
   "metadata": {},
   "outputs": [
    {
     "name": "stdout",
     "output_type": "stream",
     "text": [
      "2016 \n",
      "    district        date     month  year visitors\n",
      "0  Adilabad  01-01-2016   January  2016        2\n",
      "1  Adilabad  01-02-2016  February  2016        0\n",
      "2  Adilabad  01-03-2016     March  2016        2\n",
      "3  Adilabad  01-04-2016     April  2016        0\n",
      "4  Adilabad  01-05-2016       May  2016        0\n",
      "2017 \n",
      "    district        date     month  year visitors\n",
      "0  Adilabad  01-01-2017   January  2017        5\n",
      "1  Adilabad  01-02-2017  February  2017        0\n",
      "2  Adilabad  01-03-2017     March  2017        0\n",
      "3  Adilabad  01-04-2017     April  2017        0\n",
      "4  Adilabad  01-05-2017       May  2017        0\n",
      "2018 \n",
      "    district        date     month  year visitors\n",
      "0  Adilabad  01-01-2018   January  2018        0\n",
      "1  Adilabad  01-02-2018  February  2018        0\n",
      "2  Adilabad  01-03-2018     March  2018        0\n",
      "3  Adilabad  01-04-2018     April  2018        0\n",
      "4  Adilabad  01-05-2018       May  2018        0\n",
      "2019 \n",
      "    district        date     month  year visitors\n",
      "0  Adilabad  01-01-2019   January  2019        0\n",
      "1  Adilabad  01-02-2019  February  2019        2\n",
      "2  Adilabad  01-03-2019     March  2019        0\n",
      "3  Adilabad  01-04-2019     April  2019        0\n",
      "4  Adilabad  01-05-2019       May  2019        0\n"
     ]
    }
   ],
   "source": [
    "print(\"2016 \\n\",head(df))\n",
    "print(\"2017 \\n\",head(df1))\n",
    "print(\"2018 \\n\",head(df2))\n",
    "print(\"2019 \\n\",head(df3))"
   ]
  },
  {
   "cell_type": "code",
   "execution_count": 175,
   "id": "1d621e80",
   "metadata": {},
   "outputs": [
    {
     "name": "stdout",
     "output_type": "stream",
     "text": [
      "2016 \n",
      " (372, 5)\n",
      "2017 \n",
      " (372, 5)\n",
      "2018 \n",
      " (372, 5)\n",
      "2019 \n",
      " (396, 5)\n"
     ]
    }
   ],
   "source": [
    "print(\"2016 \\n\",shape(df))\n",
    "print(\"2017 \\n\",shape(df1))\n",
    "print(\"2018 \\n\",shape(df2))\n",
    "print(\"2019 \\n\",shape(df3))"
   ]
  },
  {
   "cell_type": "code",
   "execution_count": 176,
   "id": "83149866",
   "metadata": {},
   "outputs": [
    {
     "name": "stdout",
     "output_type": "stream",
     "text": [
      "2016 \n",
      " district    0\n",
      "date        0\n",
      "month       0\n",
      "year        0\n",
      "visitors    0\n",
      "dtype: int64\n",
      "2017 \n",
      " district    0\n",
      "date        0\n",
      "month       0\n",
      "year        0\n",
      "visitors    0\n",
      "dtype: int64\n",
      "2018 \n",
      " district    0\n",
      "date        0\n",
      "month       0\n",
      "year        0\n",
      "visitors    0\n",
      "dtype: int64\n",
      "2019 \n",
      " district    0\n",
      "date        0\n",
      "month       0\n",
      "year        0\n",
      "visitors    0\n",
      "dtype: int64\n"
     ]
    }
   ],
   "source": [
    "print(\"2016 \\n\",null(df))\n",
    "print(\"2017 \\n\",null(df1))\n",
    "print(\"2018 \\n\",null(df2))\n",
    "print(\"2019 \\n\",null(df3))"
   ]
  },
  {
   "cell_type": "code",
   "execution_count": 177,
   "id": "84acc6f3",
   "metadata": {},
   "outputs": [
    {
     "name": "stdout",
     "output_type": "stream",
     "text": [
      "2016 \n",
      " 0\n",
      "2017 \n",
      " 0\n",
      "2018 \n",
      " 0\n",
      "2019 \n",
      " 0\n"
     ]
    }
   ],
   "source": [
    "print(\"2016 \\n\",dupli(df))\n",
    "print(\"2017 \\n\",dupli(df1))\n",
    "print(\"2018 \\n\",dupli(df2))\n",
    "print(\"2019 \\n\",dupli(df3))"
   ]
  },
  {
   "cell_type": "code",
   "execution_count": 178,
   "id": "779b6aa5",
   "metadata": {},
   "outputs": [
    {
     "name": "stdout",
     "output_type": "stream",
     "text": [
      "<class 'pandas.core.frame.DataFrame'>\n",
      "RangeIndex: 372 entries, 0 to 371\n",
      "Data columns (total 5 columns):\n",
      " #   Column    Non-Null Count  Dtype \n",
      "---  ------    --------------  ----- \n",
      " 0   district  372 non-null    object\n",
      " 1   date      372 non-null    object\n",
      " 2   month     372 non-null    object\n",
      " 3   year      372 non-null    int64 \n",
      " 4   visitors  372 non-null    object\n",
      "dtypes: int64(1), object(4)\n",
      "memory usage: 14.7+ KB\n",
      "2016 \n",
      " None\n",
      "<class 'pandas.core.frame.DataFrame'>\n",
      "RangeIndex: 372 entries, 0 to 371\n",
      "Data columns (total 5 columns):\n",
      " #   Column    Non-Null Count  Dtype \n",
      "---  ------    --------------  ----- \n",
      " 0   district  372 non-null    object\n",
      " 1   date      372 non-null    object\n",
      " 2   month     372 non-null    object\n",
      " 3   year      372 non-null    int64 \n",
      " 4   visitors  372 non-null    object\n",
      "dtypes: int64(1), object(4)\n",
      "memory usage: 14.7+ KB\n",
      "2017 \n",
      " None\n",
      "<class 'pandas.core.frame.DataFrame'>\n",
      "RangeIndex: 372 entries, 0 to 371\n",
      "Data columns (total 5 columns):\n",
      " #   Column    Non-Null Count  Dtype \n",
      "---  ------    --------------  ----- \n",
      " 0   district  372 non-null    object\n",
      " 1   date      372 non-null    object\n",
      " 2   month     372 non-null    object\n",
      " 3   year      372 non-null    int64 \n",
      " 4   visitors  372 non-null    object\n",
      "dtypes: int64(1), object(4)\n",
      "memory usage: 14.7+ KB\n",
      "2018 \n",
      " None\n",
      "<class 'pandas.core.frame.DataFrame'>\n",
      "RangeIndex: 396 entries, 0 to 395\n",
      "Data columns (total 5 columns):\n",
      " #   Column    Non-Null Count  Dtype \n",
      "---  ------    --------------  ----- \n",
      " 0   district  396 non-null    object\n",
      " 1   date      396 non-null    object\n",
      " 2   month     396 non-null    object\n",
      " 3   year      396 non-null    int64 \n",
      " 4   visitors  396 non-null    object\n",
      "dtypes: int64(1), object(4)\n",
      "memory usage: 15.6+ KB\n",
      "2019 \n",
      " None\n"
     ]
    }
   ],
   "source": [
    "print(\"2016 \\n\",info(df))\n",
    "print(\"2017 \\n\",info(df1))\n",
    "print(\"2018 \\n\",info(df2))\n",
    "print(\"2019 \\n\",info(df3))"
   ]
  },
  {
   "cell_type": "code",
   "execution_count": 179,
   "id": "c044ff29",
   "metadata": {},
   "outputs": [],
   "source": [
    "df['date'] = pd.to_datetime(df['date'])\n",
    "df1['date'] = pd.to_datetime(df1['date'])\n",
    "df2['date'] = pd.to_datetime(df2['date'])\n",
    "df3['date'] = pd.to_datetime(df3['date'])"
   ]
  },
  {
   "cell_type": "code",
   "execution_count": 180,
   "id": "b61fb0a1",
   "metadata": {},
   "outputs": [
    {
     "name": "stdout",
     "output_type": "stream",
     "text": [
      "<class 'pandas.core.frame.DataFrame'>\n",
      "RangeIndex: 372 entries, 0 to 371\n",
      "Data columns (total 5 columns):\n",
      " #   Column    Non-Null Count  Dtype         \n",
      "---  ------    --------------  -----         \n",
      " 0   district  372 non-null    object        \n",
      " 1   date      372 non-null    datetime64[ns]\n",
      " 2   month     372 non-null    object        \n",
      " 3   year      372 non-null    int64         \n",
      " 4   visitors  372 non-null    object        \n",
      "dtypes: datetime64[ns](1), int64(1), object(3)\n",
      "memory usage: 14.7+ KB\n",
      "2016 \n",
      " None\n",
      "<class 'pandas.core.frame.DataFrame'>\n",
      "RangeIndex: 372 entries, 0 to 371\n",
      "Data columns (total 5 columns):\n",
      " #   Column    Non-Null Count  Dtype         \n",
      "---  ------    --------------  -----         \n",
      " 0   district  372 non-null    object        \n",
      " 1   date      372 non-null    datetime64[ns]\n",
      " 2   month     372 non-null    object        \n",
      " 3   year      372 non-null    int64         \n",
      " 4   visitors  372 non-null    object        \n",
      "dtypes: datetime64[ns](1), int64(1), object(3)\n",
      "memory usage: 14.7+ KB\n",
      "2017 \n",
      " None\n",
      "<class 'pandas.core.frame.DataFrame'>\n",
      "RangeIndex: 372 entries, 0 to 371\n",
      "Data columns (total 5 columns):\n",
      " #   Column    Non-Null Count  Dtype         \n",
      "---  ------    --------------  -----         \n",
      " 0   district  372 non-null    object        \n",
      " 1   date      372 non-null    datetime64[ns]\n",
      " 2   month     372 non-null    object        \n",
      " 3   year      372 non-null    int64         \n",
      " 4   visitors  372 non-null    object        \n",
      "dtypes: datetime64[ns](1), int64(1), object(3)\n",
      "memory usage: 14.7+ KB\n",
      "2018 \n",
      " None\n",
      "<class 'pandas.core.frame.DataFrame'>\n",
      "RangeIndex: 396 entries, 0 to 395\n",
      "Data columns (total 5 columns):\n",
      " #   Column    Non-Null Count  Dtype         \n",
      "---  ------    --------------  -----         \n",
      " 0   district  396 non-null    object        \n",
      " 1   date      396 non-null    datetime64[ns]\n",
      " 2   month     396 non-null    object        \n",
      " 3   year      396 non-null    int64         \n",
      " 4   visitors  396 non-null    object        \n",
      "dtypes: datetime64[ns](1), int64(1), object(3)\n",
      "memory usage: 15.6+ KB\n",
      "2019 \n",
      " None\n"
     ]
    }
   ],
   "source": [
    "print(\"2016 \\n\",info(df))\n",
    "print(\"2017 \\n\",info(df1))\n",
    "print(\"2018 \\n\",info(df2))\n",
    "print(\"2019 \\n\",info(df3))"
   ]
  },
  {
   "cell_type": "code",
   "execution_count": 181,
   "id": "f86d387c",
   "metadata": {},
   "outputs": [
    {
     "name": "stdout",
     "output_type": "stream",
     "text": [
      "2016 \n",
      "    district       date     month  year visitors\n",
      "0  Adilabad 2016-01-01   January  2016        2\n",
      "1  Adilabad 2016-01-02  February  2016        0\n",
      "2  Adilabad 2016-01-03     March  2016        2\n",
      "3  Adilabad 2016-01-04     April  2016        0\n",
      "4  Adilabad 2016-01-05       May  2016        0\n",
      "2017 \n",
      "    district       date     month  year visitors\n",
      "0  Adilabad 2017-01-01   January  2017        5\n",
      "1  Adilabad 2017-01-02  February  2017        0\n",
      "2  Adilabad 2017-01-03     March  2017        0\n",
      "3  Adilabad 2017-01-04     April  2017        0\n",
      "4  Adilabad 2017-01-05       May  2017        0\n",
      "2018 \n",
      "    district       date     month  year visitors\n",
      "0  Adilabad 2018-01-01   January  2018        0\n",
      "1  Adilabad 2018-01-02  February  2018        0\n",
      "2  Adilabad 2018-01-03     March  2018        0\n",
      "3  Adilabad 2018-01-04     April  2018        0\n",
      "4  Adilabad 2018-01-05       May  2018        0\n",
      "2019 \n",
      "    district       date     month  year visitors\n",
      "0  Adilabad 2019-01-01   January  2019        0\n",
      "1  Adilabad 2019-01-02  February  2019        2\n",
      "2  Adilabad 2019-01-03     March  2019        0\n",
      "3  Adilabad 2019-01-04     April  2019        0\n",
      "4  Adilabad 2019-01-05       May  2019        0\n"
     ]
    }
   ],
   "source": [
    "print(\"2016 \\n\",head(df))\n",
    "print(\"2017 \\n\",head(df1))\n",
    "print(\"2018 \\n\",head(df2))\n",
    "print(\"2019 \\n\",head(df3))"
   ]
  },
  {
   "cell_type": "code",
   "execution_count": 182,
   "id": "4308e2a7",
   "metadata": {},
   "outputs": [
    {
     "name": "stdout",
     "output_type": "stream",
     "text": [
      "<class 'pandas.core.frame.DataFrame'>\n",
      "RangeIndex: 372 entries, 0 to 371\n",
      "Data columns (total 5 columns):\n",
      " #   Column    Non-Null Count  Dtype         \n",
      "---  ------    --------------  -----         \n",
      " 0   district  372 non-null    object        \n",
      " 1   date      372 non-null    datetime64[ns]\n",
      " 2   month     372 non-null    object        \n",
      " 3   year      372 non-null    int64         \n",
      " 4   visitors  372 non-null    object        \n",
      "dtypes: datetime64[ns](1), int64(1), object(3)\n",
      "memory usage: 14.7+ KB\n",
      "2016 \n",
      " None\n",
      "<class 'pandas.core.frame.DataFrame'>\n",
      "RangeIndex: 372 entries, 0 to 371\n",
      "Data columns (total 5 columns):\n",
      " #   Column    Non-Null Count  Dtype         \n",
      "---  ------    --------------  -----         \n",
      " 0   district  372 non-null    object        \n",
      " 1   date      372 non-null    datetime64[ns]\n",
      " 2   month     372 non-null    object        \n",
      " 3   year      372 non-null    int64         \n",
      " 4   visitors  372 non-null    object        \n",
      "dtypes: datetime64[ns](1), int64(1), object(3)\n",
      "memory usage: 14.7+ KB\n",
      "2017 \n",
      " None\n",
      "<class 'pandas.core.frame.DataFrame'>\n",
      "RangeIndex: 372 entries, 0 to 371\n",
      "Data columns (total 5 columns):\n",
      " #   Column    Non-Null Count  Dtype         \n",
      "---  ------    --------------  -----         \n",
      " 0   district  372 non-null    object        \n",
      " 1   date      372 non-null    datetime64[ns]\n",
      " 2   month     372 non-null    object        \n",
      " 3   year      372 non-null    int64         \n",
      " 4   visitors  372 non-null    object        \n",
      "dtypes: datetime64[ns](1), int64(1), object(3)\n",
      "memory usage: 14.7+ KB\n",
      "2018 \n",
      " None\n",
      "<class 'pandas.core.frame.DataFrame'>\n",
      "RangeIndex: 396 entries, 0 to 395\n",
      "Data columns (total 5 columns):\n",
      " #   Column    Non-Null Count  Dtype         \n",
      "---  ------    --------------  -----         \n",
      " 0   district  396 non-null    object        \n",
      " 1   date      396 non-null    datetime64[ns]\n",
      " 2   month     396 non-null    object        \n",
      " 3   year      396 non-null    int64         \n",
      " 4   visitors  396 non-null    object        \n",
      "dtypes: datetime64[ns](1), int64(1), object(3)\n",
      "memory usage: 15.6+ KB\n",
      "2019 \n",
      " None\n"
     ]
    }
   ],
   "source": [
    "print(\"2016 \\n\",info(df))\n",
    "print(\"2017 \\n\",info(df1))\n",
    "print(\"2018 \\n\",info(df2))\n",
    "print(\"2019 \\n\",info(df3))"
   ]
  },
  {
   "cell_type": "code",
   "execution_count": null,
   "id": "07b59ede",
   "metadata": {},
   "outputs": [],
   "source": []
  },
  {
   "cell_type": "code",
   "execution_count": null,
   "id": "9cadc15d",
   "metadata": {},
   "outputs": [],
   "source": []
  },
  {
   "cell_type": "code",
   "execution_count": 183,
   "id": "889477a5",
   "metadata": {},
   "outputs": [],
   "source": [
    "Foreign_Visitors = pd.concat([df, df1, df2, df3], axis=0)"
   ]
  },
  {
   "cell_type": "code",
   "execution_count": 184,
   "id": "a6de6b32",
   "metadata": {},
   "outputs": [
    {
     "data": {
      "text/html": [
       "<div>\n",
       "<style scoped>\n",
       "    .dataframe tbody tr th:only-of-type {\n",
       "        vertical-align: middle;\n",
       "    }\n",
       "\n",
       "    .dataframe tbody tr th {\n",
       "        vertical-align: top;\n",
       "    }\n",
       "\n",
       "    .dataframe thead th {\n",
       "        text-align: right;\n",
       "    }\n",
       "</style>\n",
       "<table border=\"1\" class=\"dataframe\">\n",
       "  <thead>\n",
       "    <tr style=\"text-align: right;\">\n",
       "      <th></th>\n",
       "      <th>district</th>\n",
       "      <th>date</th>\n",
       "      <th>month</th>\n",
       "      <th>year</th>\n",
       "      <th>visitors</th>\n",
       "    </tr>\n",
       "  </thead>\n",
       "  <tbody>\n",
       "    <tr>\n",
       "      <th>0</th>\n",
       "      <td>Adilabad</td>\n",
       "      <td>2016-01-01</td>\n",
       "      <td>January</td>\n",
       "      <td>2016</td>\n",
       "      <td>2</td>\n",
       "    </tr>\n",
       "    <tr>\n",
       "      <th>1</th>\n",
       "      <td>Adilabad</td>\n",
       "      <td>2016-01-02</td>\n",
       "      <td>February</td>\n",
       "      <td>2016</td>\n",
       "      <td>0</td>\n",
       "    </tr>\n",
       "    <tr>\n",
       "      <th>2</th>\n",
       "      <td>Adilabad</td>\n",
       "      <td>2016-01-03</td>\n",
       "      <td>March</td>\n",
       "      <td>2016</td>\n",
       "      <td>2</td>\n",
       "    </tr>\n",
       "    <tr>\n",
       "      <th>3</th>\n",
       "      <td>Adilabad</td>\n",
       "      <td>2016-01-04</td>\n",
       "      <td>April</td>\n",
       "      <td>2016</td>\n",
       "      <td>0</td>\n",
       "    </tr>\n",
       "    <tr>\n",
       "      <th>4</th>\n",
       "      <td>Adilabad</td>\n",
       "      <td>2016-01-05</td>\n",
       "      <td>May</td>\n",
       "      <td>2016</td>\n",
       "      <td>0</td>\n",
       "    </tr>\n",
       "  </tbody>\n",
       "</table>\n",
       "</div>"
      ],
      "text/plain": [
       "   district       date     month  year visitors\n",
       "0  Adilabad 2016-01-01   January  2016        2\n",
       "1  Adilabad 2016-01-02  February  2016        0\n",
       "2  Adilabad 2016-01-03     March  2016        2\n",
       "3  Adilabad 2016-01-04     April  2016        0\n",
       "4  Adilabad 2016-01-05       May  2016        0"
      ]
     },
     "execution_count": 184,
     "metadata": {},
     "output_type": "execute_result"
    }
   ],
   "source": [
    "head(Foreign_Visitors)"
   ]
  },
  {
   "cell_type": "code",
   "execution_count": 185,
   "id": "a227d669",
   "metadata": {},
   "outputs": [
    {
     "data": {
      "text/plain": [
       "(1512, 5)"
      ]
     },
     "execution_count": 185,
     "metadata": {},
     "output_type": "execute_result"
    }
   ],
   "source": [
    "shape(Foreign_Visitors)"
   ]
  },
  {
   "cell_type": "code",
   "execution_count": 186,
   "id": "230daa15",
   "metadata": {},
   "outputs": [
    {
     "data": {
      "text/html": [
       "<div>\n",
       "<style scoped>\n",
       "    .dataframe tbody tr th:only-of-type {\n",
       "        vertical-align: middle;\n",
       "    }\n",
       "\n",
       "    .dataframe tbody tr th {\n",
       "        vertical-align: top;\n",
       "    }\n",
       "\n",
       "    .dataframe thead th {\n",
       "        text-align: right;\n",
       "    }\n",
       "</style>\n",
       "<table border=\"1\" class=\"dataframe\">\n",
       "  <thead>\n",
       "    <tr style=\"text-align: right;\">\n",
       "      <th></th>\n",
       "      <th>district</th>\n",
       "      <th>date</th>\n",
       "      <th>month</th>\n",
       "      <th>year</th>\n",
       "      <th>visitors</th>\n",
       "    </tr>\n",
       "  </thead>\n",
       "  <tbody>\n",
       "    <tr>\n",
       "      <th>391</th>\n",
       "      <td>Yadadri Bhongir</td>\n",
       "      <td>2019-01-08</td>\n",
       "      <td>August</td>\n",
       "      <td>2019</td>\n",
       "      <td>0</td>\n",
       "    </tr>\n",
       "    <tr>\n",
       "      <th>392</th>\n",
       "      <td>Yadadri Bhongir</td>\n",
       "      <td>2019-01-09</td>\n",
       "      <td>September</td>\n",
       "      <td>2019</td>\n",
       "      <td>0</td>\n",
       "    </tr>\n",
       "    <tr>\n",
       "      <th>393</th>\n",
       "      <td>Yadadri Bhongir</td>\n",
       "      <td>2019-01-10</td>\n",
       "      <td>October</td>\n",
       "      <td>2019</td>\n",
       "      <td>0</td>\n",
       "    </tr>\n",
       "    <tr>\n",
       "      <th>394</th>\n",
       "      <td>Yadadri Bhongir</td>\n",
       "      <td>2019-01-11</td>\n",
       "      <td>November</td>\n",
       "      <td>2019</td>\n",
       "      <td>0</td>\n",
       "    </tr>\n",
       "    <tr>\n",
       "      <th>395</th>\n",
       "      <td>Yadadri Bhongir</td>\n",
       "      <td>2019-01-12</td>\n",
       "      <td>December</td>\n",
       "      <td>2019</td>\n",
       "      <td>0</td>\n",
       "    </tr>\n",
       "  </tbody>\n",
       "</table>\n",
       "</div>"
      ],
      "text/plain": [
       "            district       date      month  year visitors\n",
       "391  Yadadri Bhongir 2019-01-08     August  2019        0\n",
       "392  Yadadri Bhongir 2019-01-09  September  2019        0\n",
       "393  Yadadri Bhongir 2019-01-10    October  2019        0\n",
       "394  Yadadri Bhongir 2019-01-11   November  2019        0\n",
       "395  Yadadri Bhongir 2019-01-12   December  2019        0"
      ]
     },
     "execution_count": 186,
     "metadata": {},
     "output_type": "execute_result"
    }
   ],
   "source": [
    "Foreign_Visitors.tail()"
   ]
  },
  {
   "cell_type": "code",
   "execution_count": 187,
   "id": "5eea47a3",
   "metadata": {},
   "outputs": [
    {
     "data": {
      "text/html": [
       "<div>\n",
       "<style scoped>\n",
       "    .dataframe tbody tr th:only-of-type {\n",
       "        vertical-align: middle;\n",
       "    }\n",
       "\n",
       "    .dataframe tbody tr th {\n",
       "        vertical-align: top;\n",
       "    }\n",
       "\n",
       "    .dataframe thead th {\n",
       "        text-align: right;\n",
       "    }\n",
       "</style>\n",
       "<table border=\"1\" class=\"dataframe\">\n",
       "  <thead>\n",
       "    <tr style=\"text-align: right;\">\n",
       "      <th></th>\n",
       "      <th>district</th>\n",
       "      <th>date</th>\n",
       "      <th>month</th>\n",
       "      <th>year</th>\n",
       "      <th>visitors</th>\n",
       "    </tr>\n",
       "  </thead>\n",
       "  <tbody>\n",
       "    <tr>\n",
       "      <th>169</th>\n",
       "      <td>Medak</td>\n",
       "      <td>2016-01-02</td>\n",
       "      <td>February</td>\n",
       "      <td>2016</td>\n",
       "      <td>0</td>\n",
       "    </tr>\n",
       "    <tr>\n",
       "      <th>227</th>\n",
       "      <td>Nirmal</td>\n",
       "      <td>2016-01-12</td>\n",
       "      <td>December</td>\n",
       "      <td>2016</td>\n",
       "      <td>0</td>\n",
       "    </tr>\n",
       "    <tr>\n",
       "      <th>216</th>\n",
       "      <td>Nirmal</td>\n",
       "      <td>2016-01-01</td>\n",
       "      <td>January</td>\n",
       "      <td>2016</td>\n",
       "      <td></td>\n",
       "    </tr>\n",
       "    <tr>\n",
       "      <th>269</th>\n",
       "      <td>Ranga Reddy</td>\n",
       "      <td>2018-01-06</td>\n",
       "      <td>June</td>\n",
       "      <td>2018</td>\n",
       "      <td></td>\n",
       "    </tr>\n",
       "    <tr>\n",
       "      <th>247</th>\n",
       "      <td>Peddapalli</td>\n",
       "      <td>2018-01-08</td>\n",
       "      <td>August</td>\n",
       "      <td>2018</td>\n",
       "      <td>0</td>\n",
       "    </tr>\n",
       "    <tr>\n",
       "      <th>89</th>\n",
       "      <td>Kamareddy</td>\n",
       "      <td>2017-01-06</td>\n",
       "      <td>June</td>\n",
       "      <td>2017</td>\n",
       "      <td>0</td>\n",
       "    </tr>\n",
       "    <tr>\n",
       "      <th>117</th>\n",
       "      <td>Khammam</td>\n",
       "      <td>2017-01-10</td>\n",
       "      <td>October</td>\n",
       "      <td>2017</td>\n",
       "      <td>0</td>\n",
       "    </tr>\n",
       "    <tr>\n",
       "      <th>3</th>\n",
       "      <td>Adilabad</td>\n",
       "      <td>2019-01-04</td>\n",
       "      <td>April</td>\n",
       "      <td>2019</td>\n",
       "      <td>0</td>\n",
       "    </tr>\n",
       "    <tr>\n",
       "      <th>146</th>\n",
       "      <td>Mahbubnagar</td>\n",
       "      <td>2019-01-03</td>\n",
       "      <td>March</td>\n",
       "      <td>2019</td>\n",
       "      <td>28</td>\n",
       "    </tr>\n",
       "    <tr>\n",
       "      <th>299</th>\n",
       "      <td>Ranga Reddy</td>\n",
       "      <td>2019-01-12</td>\n",
       "      <td>December</td>\n",
       "      <td>2019</td>\n",
       "      <td></td>\n",
       "    </tr>\n",
       "  </tbody>\n",
       "</table>\n",
       "</div>"
      ],
      "text/plain": [
       "        district       date     month  year visitors\n",
       "169       Medak  2016-01-02  February  2016        0\n",
       "227       Nirmal 2016-01-12  December  2016        0\n",
       "216       Nirmal 2016-01-01   January  2016         \n",
       "269  Ranga Reddy 2018-01-06      June  2018         \n",
       "247   Peddapalli 2018-01-08    August  2018        0\n",
       "89    Kamareddy  2017-01-06      June  2017        0\n",
       "117      Khammam 2017-01-10   October  2017        0\n",
       "3       Adilabad 2019-01-04     April  2019        0\n",
       "146  Mahbubnagar 2019-01-03     March  2019       28\n",
       "299  Ranga Reddy 2019-01-12  December  2019         "
      ]
     },
     "execution_count": 187,
     "metadata": {},
     "output_type": "execute_result"
    }
   ],
   "source": [
    "Foreign_Visitors.sample(10)"
   ]
  },
  {
   "cell_type": "code",
   "execution_count": 188,
   "id": "5a0509da",
   "metadata": {},
   "outputs": [
    {
     "data": {
      "text/plain": [
       "district    0\n",
       "date        0\n",
       "month       0\n",
       "year        0\n",
       "visitors    0\n",
       "dtype: int64"
      ]
     },
     "execution_count": 188,
     "metadata": {},
     "output_type": "execute_result"
    }
   ],
   "source": [
    "Foreign_Visitors.isnull().sum()"
   ]
  },
  {
   "cell_type": "code",
   "execution_count": 189,
   "id": "968e76c7",
   "metadata": {},
   "outputs": [
    {
     "data": {
      "text/plain": [
       "0"
      ]
     },
     "execution_count": 189,
     "metadata": {},
     "output_type": "execute_result"
    }
   ],
   "source": [
    "Foreign_Visitors.duplicated().sum()"
   ]
  },
  {
   "cell_type": "code",
   "execution_count": 190,
   "id": "9b8b49c2",
   "metadata": {},
   "outputs": [
    {
     "name": "stdout",
     "output_type": "stream",
     "text": [
      "<class 'pandas.core.frame.DataFrame'>\n",
      "Int64Index: 1512 entries, 0 to 395\n",
      "Data columns (total 5 columns):\n",
      " #   Column    Non-Null Count  Dtype         \n",
      "---  ------    --------------  -----         \n",
      " 0   district  1512 non-null   object        \n",
      " 1   date      1512 non-null   datetime64[ns]\n",
      " 2   month     1512 non-null   object        \n",
      " 3   year      1512 non-null   int64         \n",
      " 4   visitors  1512 non-null   object        \n",
      "dtypes: datetime64[ns](1), int64(1), object(3)\n",
      "memory usage: 70.9+ KB\n"
     ]
    }
   ],
   "source": [
    "Foreign_Visitors.info()"
   ]
  },
  {
   "cell_type": "code",
   "execution_count": 191,
   "id": "681e1fe9",
   "metadata": {},
   "outputs": [],
   "source": [
    "Foreign_Visitors['year'] = Foreign_Visitors['year'].astype('int32')"
   ]
  },
  {
   "cell_type": "code",
   "execution_count": 193,
   "id": "263595cc",
   "metadata": {},
   "outputs": [],
   "source": [
    "# Foreign_Visitors['visitors'] = Foreign_Visitors['visitors'].astype('int32')\n",
    "Foreign_Visitors['visitors'] = pd.to_numeric(Foreign_Visitors['visitors'], errors='coerce')"
   ]
  },
  {
   "cell_type": "code",
   "execution_count": 198,
   "id": "f37eb48f",
   "metadata": {},
   "outputs": [],
   "source": [
    "# Foreign_Visitors['visitors'] = Foreign_Visitors['visitors'].astype('int32')\n",
    "\n",
    "\n",
    "import numpy as np\n",
    "\n",
    "# Replace missing and infinite values with 0\n",
    "Foreign_Visitors['visitors'].replace([np.inf, -np.inf], np.nan, inplace=True)\n",
    "Foreign_Visitors['visitors'].fillna(0, inplace=True)\n",
    "\n",
    "# Cast the column to an integer data type\n",
    "Foreign_Visitors['visitors'] = Foreign_Visitors['visitors'].astype('int32')"
   ]
  },
  {
   "cell_type": "code",
   "execution_count": 199,
   "id": "0be8d6f5",
   "metadata": {},
   "outputs": [
    {
     "name": "stdout",
     "output_type": "stream",
     "text": [
      "<class 'pandas.core.frame.DataFrame'>\n",
      "Int64Index: 1512 entries, 0 to 395\n",
      "Data columns (total 5 columns):\n",
      " #   Column    Non-Null Count  Dtype         \n",
      "---  ------    --------------  -----         \n",
      " 0   district  1512 non-null   object        \n",
      " 1   date      1512 non-null   datetime64[ns]\n",
      " 2   month     1512 non-null   object        \n",
      " 3   year      1512 non-null   int32         \n",
      " 4   visitors  1512 non-null   int32         \n",
      "dtypes: datetime64[ns](1), int32(2), object(2)\n",
      "memory usage: 59.1+ KB\n"
     ]
    }
   ],
   "source": [
    "Foreign_Visitors.info()"
   ]
  },
  {
   "cell_type": "code",
   "execution_count": 201,
   "id": "9518cedd",
   "metadata": {},
   "outputs": [
    {
     "data": {
      "text/html": [
       "<div>\n",
       "<style scoped>\n",
       "    .dataframe tbody tr th:only-of-type {\n",
       "        vertical-align: middle;\n",
       "    }\n",
       "\n",
       "    .dataframe tbody tr th {\n",
       "        vertical-align: top;\n",
       "    }\n",
       "\n",
       "    .dataframe thead th {\n",
       "        text-align: right;\n",
       "    }\n",
       "</style>\n",
       "<table border=\"1\" class=\"dataframe\">\n",
       "  <thead>\n",
       "    <tr style=\"text-align: right;\">\n",
       "      <th></th>\n",
       "      <th>district</th>\n",
       "      <th>date</th>\n",
       "      <th>month</th>\n",
       "      <th>year</th>\n",
       "      <th>visitors</th>\n",
       "    </tr>\n",
       "  </thead>\n",
       "  <tbody>\n",
       "    <tr>\n",
       "      <th>0</th>\n",
       "      <td>Adilabad</td>\n",
       "      <td>2016-01-01</td>\n",
       "      <td>January</td>\n",
       "      <td>2016</td>\n",
       "      <td>2</td>\n",
       "    </tr>\n",
       "    <tr>\n",
       "      <th>1</th>\n",
       "      <td>Adilabad</td>\n",
       "      <td>2016-01-02</td>\n",
       "      <td>February</td>\n",
       "      <td>2016</td>\n",
       "      <td>0</td>\n",
       "    </tr>\n",
       "    <tr>\n",
       "      <th>2</th>\n",
       "      <td>Adilabad</td>\n",
       "      <td>2016-01-03</td>\n",
       "      <td>March</td>\n",
       "      <td>2016</td>\n",
       "      <td>2</td>\n",
       "    </tr>\n",
       "    <tr>\n",
       "      <th>3</th>\n",
       "      <td>Adilabad</td>\n",
       "      <td>2016-01-04</td>\n",
       "      <td>April</td>\n",
       "      <td>2016</td>\n",
       "      <td>0</td>\n",
       "    </tr>\n",
       "    <tr>\n",
       "      <th>4</th>\n",
       "      <td>Adilabad</td>\n",
       "      <td>2016-01-05</td>\n",
       "      <td>May</td>\n",
       "      <td>2016</td>\n",
       "      <td>0</td>\n",
       "    </tr>\n",
       "  </tbody>\n",
       "</table>\n",
       "</div>"
      ],
      "text/plain": [
       "   district       date     month  year  visitors\n",
       "0  Adilabad 2016-01-01   January  2016         2\n",
       "1  Adilabad 2016-01-02  February  2016         0\n",
       "2  Adilabad 2016-01-03     March  2016         2\n",
       "3  Adilabad 2016-01-04     April  2016         0\n",
       "4  Adilabad 2016-01-05       May  2016         0"
      ]
     },
     "execution_count": 201,
     "metadata": {},
     "output_type": "execute_result"
    }
   ],
   "source": [
    "Foreign_Visitors.head()"
   ]
  },
  {
   "cell_type": "code",
   "execution_count": 202,
   "id": "52a52f80",
   "metadata": {},
   "outputs": [
    {
     "data": {
      "text/html": [
       "<div>\n",
       "<style scoped>\n",
       "    .dataframe tbody tr th:only-of-type {\n",
       "        vertical-align: middle;\n",
       "    }\n",
       "\n",
       "    .dataframe tbody tr th {\n",
       "        vertical-align: top;\n",
       "    }\n",
       "\n",
       "    .dataframe thead th {\n",
       "        text-align: right;\n",
       "    }\n",
       "</style>\n",
       "<table border=\"1\" class=\"dataframe\">\n",
       "  <thead>\n",
       "    <tr style=\"text-align: right;\">\n",
       "      <th></th>\n",
       "      <th>district</th>\n",
       "      <th>date</th>\n",
       "      <th>month</th>\n",
       "      <th>year</th>\n",
       "      <th>visitors</th>\n",
       "    </tr>\n",
       "  </thead>\n",
       "  <tbody>\n",
       "    <tr>\n",
       "      <th>391</th>\n",
       "      <td>Yadadri Bhongir</td>\n",
       "      <td>2019-01-08</td>\n",
       "      <td>August</td>\n",
       "      <td>2019</td>\n",
       "      <td>0</td>\n",
       "    </tr>\n",
       "    <tr>\n",
       "      <th>392</th>\n",
       "      <td>Yadadri Bhongir</td>\n",
       "      <td>2019-01-09</td>\n",
       "      <td>September</td>\n",
       "      <td>2019</td>\n",
       "      <td>0</td>\n",
       "    </tr>\n",
       "    <tr>\n",
       "      <th>393</th>\n",
       "      <td>Yadadri Bhongir</td>\n",
       "      <td>2019-01-10</td>\n",
       "      <td>October</td>\n",
       "      <td>2019</td>\n",
       "      <td>0</td>\n",
       "    </tr>\n",
       "    <tr>\n",
       "      <th>394</th>\n",
       "      <td>Yadadri Bhongir</td>\n",
       "      <td>2019-01-11</td>\n",
       "      <td>November</td>\n",
       "      <td>2019</td>\n",
       "      <td>0</td>\n",
       "    </tr>\n",
       "    <tr>\n",
       "      <th>395</th>\n",
       "      <td>Yadadri Bhongir</td>\n",
       "      <td>2019-01-12</td>\n",
       "      <td>December</td>\n",
       "      <td>2019</td>\n",
       "      <td>0</td>\n",
       "    </tr>\n",
       "  </tbody>\n",
       "</table>\n",
       "</div>"
      ],
      "text/plain": [
       "            district       date      month  year  visitors\n",
       "391  Yadadri Bhongir 2019-01-08     August  2019         0\n",
       "392  Yadadri Bhongir 2019-01-09  September  2019         0\n",
       "393  Yadadri Bhongir 2019-01-10    October  2019         0\n",
       "394  Yadadri Bhongir 2019-01-11   November  2019         0\n",
       "395  Yadadri Bhongir 2019-01-12   December  2019         0"
      ]
     },
     "execution_count": 202,
     "metadata": {},
     "output_type": "execute_result"
    }
   ],
   "source": [
    "Foreign_Visitors.tail()"
   ]
  },
  {
   "cell_type": "code",
   "execution_count": 217,
   "id": "17c3f8f0",
   "metadata": {},
   "outputs": [
    {
     "data": {
      "text/html": [
       "<div>\n",
       "<style scoped>\n",
       "    .dataframe tbody tr th:only-of-type {\n",
       "        vertical-align: middle;\n",
       "    }\n",
       "\n",
       "    .dataframe tbody tr th {\n",
       "        vertical-align: top;\n",
       "    }\n",
       "\n",
       "    .dataframe thead th {\n",
       "        text-align: right;\n",
       "    }\n",
       "</style>\n",
       "<table border=\"1\" class=\"dataframe\">\n",
       "  <thead>\n",
       "    <tr style=\"text-align: right;\">\n",
       "      <th></th>\n",
       "      <th>district</th>\n",
       "      <th>date</th>\n",
       "      <th>month</th>\n",
       "      <th>year</th>\n",
       "      <th>visitors</th>\n",
       "    </tr>\n",
       "  </thead>\n",
       "  <tbody>\n",
       "    <tr>\n",
       "      <th>26</th>\n",
       "      <td>Hyderabad</td>\n",
       "      <td>2019-01-03</td>\n",
       "      <td>March</td>\n",
       "      <td>2019</td>\n",
       "      <td>21929</td>\n",
       "    </tr>\n",
       "    <tr>\n",
       "      <th>229</th>\n",
       "      <td>Nizamabad</td>\n",
       "      <td>2016-01-02</td>\n",
       "      <td>February</td>\n",
       "      <td>2016</td>\n",
       "      <td>0</td>\n",
       "    </tr>\n",
       "    <tr>\n",
       "      <th>111</th>\n",
       "      <td>Khammam</td>\n",
       "      <td>2019-01-04</td>\n",
       "      <td>April</td>\n",
       "      <td>2019</td>\n",
       "      <td>0</td>\n",
       "    </tr>\n",
       "    <tr>\n",
       "      <th>130</th>\n",
       "      <td>Komaram Bheem Asifabad</td>\n",
       "      <td>2018-01-11</td>\n",
       "      <td>November</td>\n",
       "      <td>2018</td>\n",
       "      <td>0</td>\n",
       "    </tr>\n",
       "    <tr>\n",
       "      <th>76</th>\n",
       "      <td>Jogulamba Gadwal</td>\n",
       "      <td>2019-01-05</td>\n",
       "      <td>May</td>\n",
       "      <td>2019</td>\n",
       "      <td>20</td>\n",
       "    </tr>\n",
       "    <tr>\n",
       "      <th>303</th>\n",
       "      <td>Suryapet</td>\n",
       "      <td>2017-01-04</td>\n",
       "      <td>April</td>\n",
       "      <td>2017</td>\n",
       "      <td>0</td>\n",
       "    </tr>\n",
       "    <tr>\n",
       "      <th>156</th>\n",
       "      <td>Mancherial</td>\n",
       "      <td>2017-01-01</td>\n",
       "      <td>January</td>\n",
       "      <td>2017</td>\n",
       "      <td>0</td>\n",
       "    </tr>\n",
       "    <tr>\n",
       "      <th>380</th>\n",
       "      <td>Warangal (Urban)</td>\n",
       "      <td>2019-01-09</td>\n",
       "      <td>September</td>\n",
       "      <td>2019</td>\n",
       "      <td>240</td>\n",
       "    </tr>\n",
       "    <tr>\n",
       "      <th>87</th>\n",
       "      <td>Kamareddy</td>\n",
       "      <td>2017-01-04</td>\n",
       "      <td>April</td>\n",
       "      <td>2017</td>\n",
       "      <td>0</td>\n",
       "    </tr>\n",
       "    <tr>\n",
       "      <th>13</th>\n",
       "      <td>Bhadradri Kothagudem</td>\n",
       "      <td>2017-01-02</td>\n",
       "      <td>February</td>\n",
       "      <td>2017</td>\n",
       "      <td>0</td>\n",
       "    </tr>\n",
       "  </tbody>\n",
       "</table>\n",
       "</div>"
      ],
      "text/plain": [
       "                   district       date      month  year  visitors\n",
       "26                Hyderabad 2019-01-03      March  2019     21929\n",
       "229               Nizamabad 2016-01-02   February  2016         0\n",
       "111                 Khammam 2019-01-04      April  2019         0\n",
       "130  Komaram Bheem Asifabad 2018-01-11   November  2018         0\n",
       "76        Jogulamba Gadwal  2019-01-05        May  2019        20\n",
       "303                Suryapet 2017-01-04      April  2017         0\n",
       "156              Mancherial 2017-01-01    January  2017         0\n",
       "380        Warangal (Urban) 2019-01-09  September  2019       240\n",
       "87               Kamareddy  2017-01-04      April  2017         0\n",
       "13    Bhadradri Kothagudem  2017-01-02   February  2017         0"
      ]
     },
     "execution_count": 217,
     "metadata": {},
     "output_type": "execute_result"
    }
   ],
   "source": [
    "Foreign_Visitors.sample(10)"
   ]
  },
  {
   "cell_type": "code",
   "execution_count": 223,
   "id": "51cd38bb",
   "metadata": {},
   "outputs": [
    {
     "name": "stdout",
     "output_type": "stream",
     "text": [
      "<class 'pandas.core.frame.DataFrame'>\n",
      "Int64Index: 1512 entries, 0 to 395\n",
      "Data columns (total 5 columns):\n",
      " #   Column    Non-Null Count  Dtype         \n",
      "---  ------    --------------  -----         \n",
      " 0   district  1512 non-null   object        \n",
      " 1   date      1512 non-null   datetime64[ns]\n",
      " 2   month     1512 non-null   object        \n",
      " 3   year      1512 non-null   int32         \n",
      " 4   visitors  1512 non-null   int32         \n",
      "dtypes: datetime64[ns](1), int32(2), object(2)\n",
      "memory usage: 59.1+ KB\n"
     ]
    }
   ],
   "source": [
    "Foreign_Visitors.info()"
   ]
  },
  {
   "cell_type": "code",
   "execution_count": null,
   "id": "79fdc63a",
   "metadata": {},
   "outputs": [],
   "source": []
  },
  {
   "cell_type": "code",
   "execution_count": 162,
   "id": "e1a5ea66",
   "metadata": {},
   "outputs": [],
   "source": [
    "# pd.to_datetime(Foreign_Visitors[date])"
   ]
  },
  {
   "cell_type": "code",
   "execution_count": 218,
   "id": "1f4a1273",
   "metadata": {},
   "outputs": [],
   "source": [
    "Foreign_Visitors.to_csv(\"Foreign_Visitors.csv\",index=False)"
   ]
  },
  {
   "cell_type": "code",
   "execution_count": 222,
   "id": "df5794e6",
   "metadata": {},
   "outputs": [
    {
     "data": {
      "text/html": [
       "<div>\n",
       "<style scoped>\n",
       "    .dataframe tbody tr th:only-of-type {\n",
       "        vertical-align: middle;\n",
       "    }\n",
       "\n",
       "    .dataframe tbody tr th {\n",
       "        vertical-align: top;\n",
       "    }\n",
       "\n",
       "    .dataframe thead th {\n",
       "        text-align: right;\n",
       "    }\n",
       "</style>\n",
       "<table border=\"1\" class=\"dataframe\">\n",
       "  <thead>\n",
       "    <tr style=\"text-align: right;\">\n",
       "      <th></th>\n",
       "      <th>district</th>\n",
       "      <th>date</th>\n",
       "      <th>month</th>\n",
       "      <th>year</th>\n",
       "      <th>visitors</th>\n",
       "    </tr>\n",
       "  </thead>\n",
       "  <tbody>\n",
       "    <tr>\n",
       "      <th>0</th>\n",
       "      <td>Adilabad</td>\n",
       "      <td>2016-01-01</td>\n",
       "      <td>January</td>\n",
       "      <td>2016</td>\n",
       "      <td>2</td>\n",
       "    </tr>\n",
       "    <tr>\n",
       "      <th>1</th>\n",
       "      <td>Adilabad</td>\n",
       "      <td>2016-01-02</td>\n",
       "      <td>February</td>\n",
       "      <td>2016</td>\n",
       "      <td>0</td>\n",
       "    </tr>\n",
       "    <tr>\n",
       "      <th>2</th>\n",
       "      <td>Adilabad</td>\n",
       "      <td>2016-01-03</td>\n",
       "      <td>March</td>\n",
       "      <td>2016</td>\n",
       "      <td>2</td>\n",
       "    </tr>\n",
       "    <tr>\n",
       "      <th>3</th>\n",
       "      <td>Adilabad</td>\n",
       "      <td>2016-01-04</td>\n",
       "      <td>April</td>\n",
       "      <td>2016</td>\n",
       "      <td>0</td>\n",
       "    </tr>\n",
       "    <tr>\n",
       "      <th>4</th>\n",
       "      <td>Adilabad</td>\n",
       "      <td>2016-01-05</td>\n",
       "      <td>May</td>\n",
       "      <td>2016</td>\n",
       "      <td>0</td>\n",
       "    </tr>\n",
       "  </tbody>\n",
       "</table>\n",
       "</div>"
      ],
      "text/plain": [
       "   district        date     month  year  visitors\n",
       "0  Adilabad  2016-01-01   January  2016         2\n",
       "1  Adilabad  2016-01-02  February  2016         0\n",
       "2  Adilabad  2016-01-03     March  2016         2\n",
       "3  Adilabad  2016-01-04     April  2016         0\n",
       "4  Adilabad  2016-01-05       May  2016         0"
      ]
     },
     "execution_count": 222,
     "metadata": {},
     "output_type": "execute_result"
    }
   ],
   "source": [
    "data = pd.read_csv(\"Foreign_Visitors.csv\")\n",
    "data.head()"
   ]
  },
  {
   "cell_type": "code",
   "execution_count": 220,
   "id": "8cbbc943",
   "metadata": {},
   "outputs": [
    {
     "data": {
      "text/plain": [
       "(1512, 5)"
      ]
     },
     "execution_count": 220,
     "metadata": {},
     "output_type": "execute_result"
    }
   ],
   "source": [
    "data.shape"
   ]
  },
  {
   "cell_type": "code",
   "execution_count": 221,
   "id": "43a5a381",
   "metadata": {},
   "outputs": [],
   "source": [
    "data.date = pd.to_datetime(data.date)"
   ]
  },
  {
   "cell_type": "code",
   "execution_count": 138,
   "id": "2f4a64fc",
   "metadata": {},
   "outputs": [
    {
     "name": "stdout",
     "output_type": "stream",
     "text": [
      "Shape of the data (1512, 5)\n",
      "Top Five Rows of data \n",
      "    district       date     month  year visitors\n",
      "0  Adilabad 2016-01-01   January  2016        2\n",
      "1  Adilabad 2016-01-02  February  2016        0\n",
      "2  Adilabad 2016-01-03     March  2016        2\n",
      "3  Adilabad 2016-01-04     April  2016        0\n",
      "4  Adilabad 2016-01-05       May  2016        0\n"
     ]
    }
   ],
   "source": [
    "print(\"Shape of the data\", data.shape)\n",
    "print(\"Top Five Rows of data \\n\", \n",
    "      data.head())"
   ]
  },
  {
   "cell_type": "code",
   "execution_count": 139,
   "id": "293b81f6",
   "metadata": {},
   "outputs": [
    {
     "name": "stdout",
     "output_type": "stream",
     "text": [
      "<class 'pandas.core.frame.DataFrame'>\n",
      "RangeIndex: 1512 entries, 0 to 1511\n",
      "Data columns (total 5 columns):\n",
      " #   Column    Non-Null Count  Dtype         \n",
      "---  ------    --------------  -----         \n",
      " 0   district  1512 non-null   object        \n",
      " 1   date      1512 non-null   datetime64[ns]\n",
      " 2   month     1512 non-null   object        \n",
      " 3   year      1512 non-null   int64         \n",
      " 4   visitors  1512 non-null   object        \n",
      "dtypes: datetime64[ns](1), int64(1), object(3)\n",
      "memory usage: 59.2+ KB\n"
     ]
    }
   ],
   "source": [
    "data.info()"
   ]
  },
  {
   "cell_type": "code",
   "execution_count": 140,
   "id": "770d8339",
   "metadata": {},
   "outputs": [],
   "source": [
    "data.to_csv(\"Foreign_Visitors.csv\",index=False)"
   ]
  },
  {
   "cell_type": "code",
   "execution_count": 141,
   "id": "37a38683",
   "metadata": {},
   "outputs": [
    {
     "data": {
      "text/html": [
       "<div>\n",
       "<style scoped>\n",
       "    .dataframe tbody tr th:only-of-type {\n",
       "        vertical-align: middle;\n",
       "    }\n",
       "\n",
       "    .dataframe tbody tr th {\n",
       "        vertical-align: top;\n",
       "    }\n",
       "\n",
       "    .dataframe thead th {\n",
       "        text-align: right;\n",
       "    }\n",
       "</style>\n",
       "<table border=\"1\" class=\"dataframe\">\n",
       "  <thead>\n",
       "    <tr style=\"text-align: right;\">\n",
       "      <th></th>\n",
       "      <th>district</th>\n",
       "      <th>date</th>\n",
       "      <th>month</th>\n",
       "      <th>year</th>\n",
       "      <th>visitors</th>\n",
       "    </tr>\n",
       "  </thead>\n",
       "  <tbody>\n",
       "    <tr>\n",
       "      <th>0</th>\n",
       "      <td>Adilabad</td>\n",
       "      <td>2016-01-01</td>\n",
       "      <td>January</td>\n",
       "      <td>2016</td>\n",
       "      <td>2</td>\n",
       "    </tr>\n",
       "    <tr>\n",
       "      <th>1</th>\n",
       "      <td>Adilabad</td>\n",
       "      <td>2016-01-02</td>\n",
       "      <td>February</td>\n",
       "      <td>2016</td>\n",
       "      <td>0</td>\n",
       "    </tr>\n",
       "    <tr>\n",
       "      <th>2</th>\n",
       "      <td>Adilabad</td>\n",
       "      <td>2016-01-03</td>\n",
       "      <td>March</td>\n",
       "      <td>2016</td>\n",
       "      <td>2</td>\n",
       "    </tr>\n",
       "    <tr>\n",
       "      <th>3</th>\n",
       "      <td>Adilabad</td>\n",
       "      <td>2016-01-04</td>\n",
       "      <td>April</td>\n",
       "      <td>2016</td>\n",
       "      <td>0</td>\n",
       "    </tr>\n",
       "    <tr>\n",
       "      <th>4</th>\n",
       "      <td>Adilabad</td>\n",
       "      <td>2016-01-05</td>\n",
       "      <td>May</td>\n",
       "      <td>2016</td>\n",
       "      <td>0</td>\n",
       "    </tr>\n",
       "  </tbody>\n",
       "</table>\n",
       "</div>"
      ],
      "text/plain": [
       "   district        date     month  year visitors\n",
       "0  Adilabad  2016-01-01   January  2016        2\n",
       "1  Adilabad  2016-01-02  February  2016        0\n",
       "2  Adilabad  2016-01-03     March  2016        2\n",
       "3  Adilabad  2016-01-04     April  2016        0\n",
       "4  Adilabad  2016-01-05       May  2016        0"
      ]
     },
     "execution_count": 141,
     "metadata": {},
     "output_type": "execute_result"
    }
   ],
   "source": [
    "data = pd.read_csv(\"Foreign_Visitors.csv\")\n",
    "data.head()"
   ]
  },
  {
   "cell_type": "code",
   "execution_count": 142,
   "id": "e3040891",
   "metadata": {},
   "outputs": [
    {
     "name": "stdout",
     "output_type": "stream",
     "text": [
      "<class 'pandas.core.frame.DataFrame'>\n",
      "RangeIndex: 1512 entries, 0 to 1511\n",
      "Data columns (total 5 columns):\n",
      " #   Column    Non-Null Count  Dtype \n",
      "---  ------    --------------  ----- \n",
      " 0   district  1512 non-null   object\n",
      " 1   date      1512 non-null   object\n",
      " 2   month     1512 non-null   object\n",
      " 3   year      1512 non-null   int64 \n",
      " 4   visitors  1512 non-null   object\n",
      "dtypes: int64(1), object(4)\n",
      "memory usage: 59.2+ KB\n"
     ]
    }
   ],
   "source": [
    "data.info()"
   ]
  },
  {
   "cell_type": "code",
   "execution_count": null,
   "id": "7819a3ec",
   "metadata": {},
   "outputs": [],
   "source": []
  }
 ],
 "metadata": {
  "kernelspec": {
   "display_name": "Python 3 (ipykernel)",
   "language": "python",
   "name": "python3"
  },
  "language_info": {
   "codemirror_mode": {
    "name": "ipython",
    "version": 3
   },
   "file_extension": ".py",
   "mimetype": "text/x-python",
   "name": "python",
   "nbconvert_exporter": "python",
   "pygments_lexer": "ipython3",
   "version": "3.10.7"
  }
 },
 "nbformat": 4,
 "nbformat_minor": 5
}
