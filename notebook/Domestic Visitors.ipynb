{
 "cells": [
  {
   "cell_type": "markdown",
   "id": "89b17f19",
   "metadata": {},
   "source": [
    "**Importing Libraries**"
   ]
  },
  {
   "cell_type": "code",
   "execution_count": 1,
   "id": "3858c686",
   "metadata": {},
   "outputs": [],
   "source": [
    "import numpy as np\n",
    "import pandas as pd\n",
    "import matplotlib.pyplot as plt\n",
    "import seaborn as sns"
   ]
  },
  {
   "cell_type": "markdown",
   "id": "858786c7",
   "metadata": {},
   "source": [
    "**Loading Dataset**"
   ]
  },
  {
   "cell_type": "code",
   "execution_count": 2,
   "id": "47bf2c38",
   "metadata": {},
   "outputs": [],
   "source": [
    "df = pd.read_csv(\"domestic_visitors_2016.csv\")\n",
    "df1 = pd.read_csv(\"domestic_visitors_2017.csv\")\n",
    "df2 = pd.read_csv(\"domestic_visitors_2018.csv\")\n",
    "df3 = pd.read_csv(\"domestic_visitors_2019.csv\")"
   ]
  },
  {
   "cell_type": "markdown",
   "id": "75b28e66",
   "metadata": {},
   "source": [
    "**Creating Helping Functions**"
   ]
  },
  {
   "cell_type": "code",
   "execution_count": 3,
   "id": "ec78c173",
   "metadata": {},
   "outputs": [],
   "source": [
    "def head(n):\n",
    "    return n.head()\n",
    "\n",
    "def shape(n):\n",
    "    return n.shape\n",
    "\n",
    "def null(n):\n",
    "    return n.isnull().sum()\n",
    "\n",
    "def inf(n):\n",
    "    n.info()\n",
    "\n",
    "def dupli(n):\n",
    "    return n.duplicated().sum()\n",
    "\n",
    "def drpna(n):\n",
    "    n.dropna(inplace=True)"
   ]
  },
  {
   "cell_type": "markdown",
   "id": "3041e3e1",
   "metadata": {},
   "source": [
    "**Top 5 Rows of all Dataset**"
   ]
  },
  {
   "cell_type": "code",
   "execution_count": 4,
   "id": "cd21af5d",
   "metadata": {},
   "outputs": [
    {
     "name": "stdout",
     "output_type": "stream",
     "text": [
      "2016 \n",
      "    district        date     month  year visitors\n",
      "0  Adilabad  01-01-2016   January  2016   792136\n",
      "1  Adilabad  01-02-2016  February  2016   937820\n",
      "2  Adilabad  01-03-2016     March  2016   582946\n",
      "3  Adilabad  01-04-2016     April  2016   341948\n",
      "4  Adilabad  01-05-2016       May  2016   252887\n",
      "\n",
      "\n",
      "2017 \n",
      "    district        date     month  year visitors\n",
      "0  Adilabad  01-01-2017   January  2017   318799\n",
      "1  Adilabad  01-02-2017  February  2017    83316\n",
      "2  Adilabad  01-03-2017     March  2017    27508\n",
      "3  Adilabad  01-04-2017     April  2017    13946\n",
      "4  Adilabad  01-05-2017       May  2017    11752\n",
      "\n",
      "\n",
      "2018 \n",
      "    district        date     month  year visitors\n",
      "0  Adilabad  01-01-2018   January  2018   320356\n",
      "1  Adilabad  01-02-2018  February  2018    36550\n",
      "2  Adilabad  01-03-2018     March  2018    23011\n",
      "3  Adilabad  01-04-2018     April  2018    14183\n",
      "4  Adilabad  01-05-2018       May  2018     8197\n",
      "\n",
      "\n",
      "2019 \n",
      "    district        date     month  year visitors\n",
      "0  Adilabad  01-01-2019   January  2019    25071\n",
      "1  Adilabad  01-02-2019  February  2019   406177\n",
      "2  Adilabad  01-03-2019     March  2019    14347\n",
      "3  Adilabad  01-04-2019     April  2019     9972\n",
      "4  Adilabad  01-05-2019       May  2019     6997\n"
     ]
    }
   ],
   "source": [
    "print(\"2016 \\n\", head(df))\n",
    "print(\"\\n\")\n",
    "print(\"2017 \\n\", head(df1))\n",
    "print(\"\\n\")\n",
    "print(\"2018 \\n\", head(df2))\n",
    "print(\"\\n\")\n",
    "print(\"2019 \\n\", head(df3))"
   ]
  },
  {
   "cell_type": "markdown",
   "id": "aa61acc4",
   "metadata": {},
   "source": [
    "**Printing Total Rows and Columns of All Dataset**"
   ]
  },
  {
   "cell_type": "code",
   "execution_count": 5,
   "id": "9b2b140b",
   "metadata": {},
   "outputs": [
    {
     "name": "stdout",
     "output_type": "stream",
     "text": [
      "2016 \n",
      "\n",
      "Total Number of Rows    :  372\n",
      "Total Number of Columns :  5\n",
      "\n",
      "\n",
      "2017 \n",
      "\n",
      "Total Number of Rows    :  372\n",
      "Total Number of Columns :  5\n",
      "\n",
      "\n",
      "2018 \n",
      "\n",
      "Total Number of Rows    :  372\n",
      "Total Number of Columns :  5\n",
      "\n",
      "\n",
      "2019 \n",
      "\n",
      "Total Number of Rows    :  396\n",
      "Total Number of Columns :  5\n"
     ]
    }
   ],
   "source": [
    "print(\"2016 \\n\")\n",
    "print(\"Total Number of Rows    : \", df.shape[0])\n",
    "print(\"Total Number of Columns : \", df.shape[1])\n",
    "print(\"\\n\")\n",
    "\n",
    "print(\"2017 \\n\")\n",
    "print(\"Total Number of Rows    : \", df1.shape[0])\n",
    "print(\"Total Number of Columns : \", df1.shape[1])\n",
    "print(\"\\n\")\n",
    "\n",
    "print(\"2018 \\n\")\n",
    "print(\"Total Number of Rows    : \", df2.shape[0])\n",
    "print(\"Total Number of Columns : \", df2.shape[1])\n",
    "print(\"\\n\")\n",
    "\n",
    "print(\"2019 \\n\")\n",
    "print(\"Total Number of Rows    : \", df3.shape[0])\n",
    "print(\"Total Number of Columns : \", df3.shape[1])"
   ]
  },
  {
   "cell_type": "markdown",
   "id": "ee703f65",
   "metadata": {},
   "source": [
    "**Printing the Null Values of All Dataset**"
   ]
  },
  {
   "cell_type": "code",
   "execution_count": 6,
   "id": "debdca0a",
   "metadata": {
    "scrolled": false
   },
   "outputs": [
    {
     "name": "stdout",
     "output_type": "stream",
     "text": [
      "2016 \n",
      "\n",
      "district    0\n",
      "date        0\n",
      "month       0\n",
      "year        0\n",
      "visitors    0\n",
      "dtype: int64\n",
      "\n",
      "\n",
      "2017 \n",
      "\n",
      "district    0\n",
      "date        0\n",
      "month       0\n",
      "year        0\n",
      "visitors    0\n",
      "dtype: int64\n",
      "\n",
      "\n",
      "2018 \n",
      "\n",
      "district     0\n",
      "date         0\n",
      "month        0\n",
      "year         0\n",
      "visitors    12\n",
      "dtype: int64\n",
      "\n",
      "\n",
      "2019 \n",
      "\n",
      "district     0\n",
      "date         0\n",
      "month        0\n",
      "year         0\n",
      "visitors    18\n",
      "dtype: int64\n"
     ]
    }
   ],
   "source": [
    "print(\"2016 \\n\")\n",
    "print(null(df))\n",
    "print(\"\\n\")\n",
    "\n",
    "print(\"2017 \\n\")\n",
    "print(null(df1))\n",
    "print(\"\\n\")\n",
    "\n",
    "print(\"2018 \\n\")\n",
    "print(null(df2))\n",
    "print(\"\\n\")\n",
    "\n",
    "print(\"2019 \\n\")\n",
    "print(null(df3))"
   ]
  },
  {
   "cell_type": "markdown",
   "id": "8b013329",
   "metadata": {},
   "source": [
    "**Findings**\n",
    "\n",
    "We have null values in 2018 and 2019 dataset in visitors column\n",
    "\n",
    "I decided to remove it instead of impute it because its a visitors column which means that day have holiday and visitors won't visit the place."
   ]
  },
  {
   "cell_type": "code",
   "execution_count": 7,
   "id": "89a7bc51",
   "metadata": {},
   "outputs": [],
   "source": [
    "df2.dropna(inplace = True)\n",
    "df3.dropna(inplace = True)"
   ]
  },
  {
   "cell_type": "code",
   "execution_count": 8,
   "id": "d2098d14",
   "metadata": {},
   "outputs": [
    {
     "name": "stdout",
     "output_type": "stream",
     "text": [
      "2018 \n",
      "\n",
      "district    0\n",
      "date        0\n",
      "month       0\n",
      "year        0\n",
      "visitors    0\n",
      "dtype: int64\n",
      "\n",
      "\n",
      "2019 \n",
      "\n",
      "district    0\n",
      "date        0\n",
      "month       0\n",
      "year        0\n",
      "visitors    0\n",
      "dtype: int64\n"
     ]
    }
   ],
   "source": [
    "print(\"2018 \\n\")\n",
    "print(null(df2))\n",
    "print(\"\\n\")\n",
    "\n",
    "print(\"2019 \\n\")\n",
    "print(null(df3))"
   ]
  },
  {
   "cell_type": "markdown",
   "id": "ca799fe6",
   "metadata": {},
   "source": [
    "**Printing the Duplicates Values**"
   ]
  },
  {
   "cell_type": "code",
   "execution_count": 9,
   "id": "bb50488e",
   "metadata": {},
   "outputs": [
    {
     "name": "stdout",
     "output_type": "stream",
     "text": [
      "2016 \n",
      " 0\n",
      "2017 \n",
      " 0\n",
      "2018 \n",
      " 0\n",
      "2019 \n",
      " 0\n"
     ]
    }
   ],
   "source": [
    "print(\"2016 \\n\", dupli(df))\n",
    "print(\"2017 \\n\", dupli(df1))\n",
    "print(\"2018 \\n\", dupli(df2))\n",
    "print(\"2019 \\n\", dupli(df3))"
   ]
  },
  {
   "cell_type": "markdown",
   "id": "091cf879",
   "metadata": {},
   "source": [
    "**Removing the White Space**"
   ]
  },
  {
   "cell_type": "code",
   "execution_count": 10,
   "id": "78761d0b",
   "metadata": {},
   "outputs": [],
   "source": [
    "df.visitors = df.visitors.str.replace(' ','')\n",
    "df1.visitors = df1.visitors.str.replace(' ','')\n",
    "df2.visitors = df2.visitors.str.replace(' ','')\n",
    "df3.visitors = df3.visitors.str.replace(' ','')"
   ]
  },
  {
   "cell_type": "markdown",
   "id": "9fb71074",
   "metadata": {},
   "source": [
    "**Converting the dtypes of columns**"
   ]
  },
  {
   "cell_type": "code",
   "execution_count": 11,
   "id": "96fe0429",
   "metadata": {},
   "outputs": [],
   "source": [
    "df['date'] = pd.to_datetime(df['date'])\n",
    "df1['date'] = pd.to_datetime(df1['date'])\n",
    "df2['date'] = pd.to_datetime(df2['date'])\n",
    "df3['date'] = pd.to_datetime(df3['date'])\n",
    "\n",
    "\n",
    "df['year'] = df['year'].astype('int32')\n",
    "df1['year'] = df1['year'].astype('int32')\n",
    "df2['year'] = df2['year'].astype('int32')\n",
    "df3['year'] = df3['year'].astype('int32')"
   ]
  },
  {
   "cell_type": "code",
   "execution_count": 12,
   "id": "3f696871",
   "metadata": {},
   "outputs": [],
   "source": [
    "df['visitors'] = pd.to_numeric(df['visitors'], errors='coerce')\n",
    "df1['visitors'] = pd.to_numeric(df1['visitors'], errors='coerce')\n",
    "df2['visitors'] = pd.to_numeric(df2['visitors'], errors='coerce')\n",
    "df3['visitors'] = pd.to_numeric(df3['visitors'], errors='coerce')"
   ]
  },
  {
   "cell_type": "code",
   "execution_count": 13,
   "id": "7b8852c6",
   "metadata": {},
   "outputs": [],
   "source": [
    "# replace NaN and inf values with zero\n",
    "\n",
    "df['visitors'] = df['visitors'].replace([np.nan, np.inf], 0)\n",
    "df1['visitors'] = df1['visitors'].replace([np.nan, np.inf], 0)\n",
    "df2['visitors'] = df2['visitors'].replace([np.nan, np.inf], 0)\n",
    "df3['visitors'] = df3['visitors'].replace([np.nan, np.inf], 0)"
   ]
  },
  {
   "cell_type": "code",
   "execution_count": 14,
   "id": "a65b53ee",
   "metadata": {},
   "outputs": [],
   "source": [
    "# cast the column to int32\n",
    "\n",
    "df['visitors'] = df['visitors'].astype('int32')\n",
    "df1['visitors'] = df1['visitors'].astype('int32')\n",
    "df2['visitors'] = df2['visitors'].astype('int32')\n",
    "df3['visitors'] = df3['visitors'].astype('int32')"
   ]
  },
  {
   "cell_type": "markdown",
   "id": "62aac096",
   "metadata": {},
   "source": [
    "**Printing the Information of the Dataset**"
   ]
  },
  {
   "cell_type": "code",
   "execution_count": 15,
   "id": "bf563137",
   "metadata": {},
   "outputs": [
    {
     "name": "stdout",
     "output_type": "stream",
     "text": [
      "2016 \n",
      "\n",
      "<class 'pandas.core.frame.DataFrame'>\n",
      "RangeIndex: 372 entries, 0 to 371\n",
      "Data columns (total 5 columns):\n",
      " #   Column    Non-Null Count  Dtype         \n",
      "---  ------    --------------  -----         \n",
      " 0   district  372 non-null    object        \n",
      " 1   date      372 non-null    datetime64[ns]\n",
      " 2   month     372 non-null    object        \n",
      " 3   year      372 non-null    int32         \n",
      " 4   visitors  372 non-null    int32         \n",
      "dtypes: datetime64[ns](1), int32(2), object(2)\n",
      "memory usage: 11.8+ KB\n",
      "None\n",
      "\n",
      "\n",
      "2017 \n",
      "\n",
      "<class 'pandas.core.frame.DataFrame'>\n",
      "RangeIndex: 372 entries, 0 to 371\n",
      "Data columns (total 5 columns):\n",
      " #   Column    Non-Null Count  Dtype         \n",
      "---  ------    --------------  -----         \n",
      " 0   district  372 non-null    object        \n",
      " 1   date      372 non-null    datetime64[ns]\n",
      " 2   month     372 non-null    object        \n",
      " 3   year      372 non-null    int32         \n",
      " 4   visitors  372 non-null    int32         \n",
      "dtypes: datetime64[ns](1), int32(2), object(2)\n",
      "memory usage: 11.8+ KB\n",
      "None\n",
      "\n",
      "\n",
      "2018 \n",
      "\n",
      "<class 'pandas.core.frame.DataFrame'>\n",
      "Int64Index: 360 entries, 0 to 371\n",
      "Data columns (total 5 columns):\n",
      " #   Column    Non-Null Count  Dtype         \n",
      "---  ------    --------------  -----         \n",
      " 0   district  360 non-null    object        \n",
      " 1   date      360 non-null    datetime64[ns]\n",
      " 2   month     360 non-null    object        \n",
      " 3   year      360 non-null    int32         \n",
      " 4   visitors  360 non-null    int32         \n",
      "dtypes: datetime64[ns](1), int32(2), object(2)\n",
      "memory usage: 14.1+ KB\n",
      "None\n",
      "\n",
      "\n",
      "2019 \n",
      "\n",
      "<class 'pandas.core.frame.DataFrame'>\n",
      "Int64Index: 378 entries, 0 to 395\n",
      "Data columns (total 5 columns):\n",
      " #   Column    Non-Null Count  Dtype         \n",
      "---  ------    --------------  -----         \n",
      " 0   district  378 non-null    object        \n",
      " 1   date      378 non-null    datetime64[ns]\n",
      " 2   month     378 non-null    object        \n",
      " 3   year      378 non-null    int32         \n",
      " 4   visitors  378 non-null    int32         \n",
      "dtypes: datetime64[ns](1), int32(2), object(2)\n",
      "memory usage: 14.8+ KB\n",
      "None\n"
     ]
    }
   ],
   "source": [
    "print(\"2016 \\n\")\n",
    "print(inf(df))\n",
    "print(\"\\n\")\n",
    "\n",
    "print(\"2017 \\n\")\n",
    "print(inf(df1))\n",
    "print(\"\\n\")\n",
    "\n",
    "print(\"2018 \\n\")\n",
    "print(inf(df2))\n",
    "print(\"\\n\")\n",
    "\n",
    "print(\"2019 \\n\")\n",
    "print(inf(df3))"
   ]
  },
  {
   "cell_type": "markdown",
   "id": "99e7b57c",
   "metadata": {},
   "source": [
    "**Merging all Dataset into one Dataset named Domestic_Visitors**"
   ]
  },
  {
   "cell_type": "code",
   "execution_count": 16,
   "id": "ee2b1432",
   "metadata": {},
   "outputs": [],
   "source": [
    "Domestic_Visitors = pd.concat([df,df1, df2,df3], axis=0)"
   ]
  },
  {
   "cell_type": "code",
   "execution_count": 17,
   "id": "37b7a1e1",
   "metadata": {},
   "outputs": [
    {
     "data": {
      "text/html": [
       "<div>\n",
       "<style scoped>\n",
       "    .dataframe tbody tr th:only-of-type {\n",
       "        vertical-align: middle;\n",
       "    }\n",
       "\n",
       "    .dataframe tbody tr th {\n",
       "        vertical-align: top;\n",
       "    }\n",
       "\n",
       "    .dataframe thead th {\n",
       "        text-align: right;\n",
       "    }\n",
       "</style>\n",
       "<table border=\"1\" class=\"dataframe\">\n",
       "  <thead>\n",
       "    <tr style=\"text-align: right;\">\n",
       "      <th></th>\n",
       "      <th>district</th>\n",
       "      <th>date</th>\n",
       "      <th>month</th>\n",
       "      <th>year</th>\n",
       "      <th>visitors</th>\n",
       "    </tr>\n",
       "  </thead>\n",
       "  <tbody>\n",
       "    <tr>\n",
       "      <th>0</th>\n",
       "      <td>Adilabad</td>\n",
       "      <td>2016-01-01</td>\n",
       "      <td>January</td>\n",
       "      <td>2016</td>\n",
       "      <td>792136</td>\n",
       "    </tr>\n",
       "    <tr>\n",
       "      <th>1</th>\n",
       "      <td>Adilabad</td>\n",
       "      <td>2016-01-02</td>\n",
       "      <td>February</td>\n",
       "      <td>2016</td>\n",
       "      <td>937820</td>\n",
       "    </tr>\n",
       "    <tr>\n",
       "      <th>2</th>\n",
       "      <td>Adilabad</td>\n",
       "      <td>2016-01-03</td>\n",
       "      <td>March</td>\n",
       "      <td>2016</td>\n",
       "      <td>582946</td>\n",
       "    </tr>\n",
       "    <tr>\n",
       "      <th>3</th>\n",
       "      <td>Adilabad</td>\n",
       "      <td>2016-01-04</td>\n",
       "      <td>April</td>\n",
       "      <td>2016</td>\n",
       "      <td>341948</td>\n",
       "    </tr>\n",
       "    <tr>\n",
       "      <th>4</th>\n",
       "      <td>Adilabad</td>\n",
       "      <td>2016-01-05</td>\n",
       "      <td>May</td>\n",
       "      <td>2016</td>\n",
       "      <td>252887</td>\n",
       "    </tr>\n",
       "  </tbody>\n",
       "</table>\n",
       "</div>"
      ],
      "text/plain": [
       "   district       date     month  year  visitors\n",
       "0  Adilabad 2016-01-01   January  2016    792136\n",
       "1  Adilabad 2016-01-02  February  2016    937820\n",
       "2  Adilabad 2016-01-03     March  2016    582946\n",
       "3  Adilabad 2016-01-04     April  2016    341948\n",
       "4  Adilabad 2016-01-05       May  2016    252887"
      ]
     },
     "execution_count": 17,
     "metadata": {},
     "output_type": "execute_result"
    }
   ],
   "source": [
    "# Printing the Top 5 Rows of Dataset\n",
    "\n",
    "head(Domestic_Visitors)"
   ]
  },
  {
   "cell_type": "code",
   "execution_count": 18,
   "id": "97923960",
   "metadata": {},
   "outputs": [
    {
     "data": {
      "text/html": [
       "<div>\n",
       "<style scoped>\n",
       "    .dataframe tbody tr th:only-of-type {\n",
       "        vertical-align: middle;\n",
       "    }\n",
       "\n",
       "    .dataframe tbody tr th {\n",
       "        vertical-align: top;\n",
       "    }\n",
       "\n",
       "    .dataframe thead th {\n",
       "        text-align: right;\n",
       "    }\n",
       "</style>\n",
       "<table border=\"1\" class=\"dataframe\">\n",
       "  <thead>\n",
       "    <tr style=\"text-align: right;\">\n",
       "      <th></th>\n",
       "      <th>district</th>\n",
       "      <th>date</th>\n",
       "      <th>month</th>\n",
       "      <th>year</th>\n",
       "      <th>visitors</th>\n",
       "    </tr>\n",
       "  </thead>\n",
       "  <tbody>\n",
       "    <tr>\n",
       "      <th>391</th>\n",
       "      <td>Yadadri Bhongir</td>\n",
       "      <td>2019-01-08</td>\n",
       "      <td>August</td>\n",
       "      <td>2019</td>\n",
       "      <td>389010</td>\n",
       "    </tr>\n",
       "    <tr>\n",
       "      <th>392</th>\n",
       "      <td>Yadadri Bhongir</td>\n",
       "      <td>2019-01-09</td>\n",
       "      <td>September</td>\n",
       "      <td>2019</td>\n",
       "      <td>366862</td>\n",
       "    </tr>\n",
       "    <tr>\n",
       "      <th>393</th>\n",
       "      <td>Yadadri Bhongir</td>\n",
       "      <td>2019-01-10</td>\n",
       "      <td>October</td>\n",
       "      <td>2019</td>\n",
       "      <td>381860</td>\n",
       "    </tr>\n",
       "    <tr>\n",
       "      <th>394</th>\n",
       "      <td>Yadadri Bhongir</td>\n",
       "      <td>2019-01-11</td>\n",
       "      <td>November</td>\n",
       "      <td>2019</td>\n",
       "      <td>365990</td>\n",
       "    </tr>\n",
       "    <tr>\n",
       "      <th>395</th>\n",
       "      <td>Yadadri Bhongir</td>\n",
       "      <td>2019-01-12</td>\n",
       "      <td>December</td>\n",
       "      <td>2019</td>\n",
       "      <td>477635</td>\n",
       "    </tr>\n",
       "  </tbody>\n",
       "</table>\n",
       "</div>"
      ],
      "text/plain": [
       "            district       date      month  year  visitors\n",
       "391  Yadadri Bhongir 2019-01-08     August  2019    389010\n",
       "392  Yadadri Bhongir 2019-01-09  September  2019    366862\n",
       "393  Yadadri Bhongir 2019-01-10    October  2019    381860\n",
       "394  Yadadri Bhongir 2019-01-11   November  2019    365990\n",
       "395  Yadadri Bhongir 2019-01-12   December  2019    477635"
      ]
     },
     "execution_count": 18,
     "metadata": {},
     "output_type": "execute_result"
    }
   ],
   "source": [
    "# Printing the Last 5 Rows of Dataset\n",
    "\n",
    "Domestic_Visitors.tail()"
   ]
  },
  {
   "cell_type": "code",
   "execution_count": 19,
   "id": "c0e7dead",
   "metadata": {},
   "outputs": [
    {
     "data": {
      "text/html": [
       "<div>\n",
       "<style scoped>\n",
       "    .dataframe tbody tr th:only-of-type {\n",
       "        vertical-align: middle;\n",
       "    }\n",
       "\n",
       "    .dataframe tbody tr th {\n",
       "        vertical-align: top;\n",
       "    }\n",
       "\n",
       "    .dataframe thead th {\n",
       "        text-align: right;\n",
       "    }\n",
       "</style>\n",
       "<table border=\"1\" class=\"dataframe\">\n",
       "  <thead>\n",
       "    <tr style=\"text-align: right;\">\n",
       "      <th></th>\n",
       "      <th>district</th>\n",
       "      <th>date</th>\n",
       "      <th>month</th>\n",
       "      <th>year</th>\n",
       "      <th>visitors</th>\n",
       "    </tr>\n",
       "  </thead>\n",
       "  <tbody>\n",
       "    <tr>\n",
       "      <th>169</th>\n",
       "      <td>Medak</td>\n",
       "      <td>2016-01-02</td>\n",
       "      <td>February</td>\n",
       "      <td>2016</td>\n",
       "      <td>215000</td>\n",
       "    </tr>\n",
       "    <tr>\n",
       "      <th>228</th>\n",
       "      <td>Nizamabad</td>\n",
       "      <td>2017-01-01</td>\n",
       "      <td>January</td>\n",
       "      <td>2017</td>\n",
       "      <td>613</td>\n",
       "    </tr>\n",
       "    <tr>\n",
       "      <th>109</th>\n",
       "      <td>Khammam</td>\n",
       "      <td>2017-01-02</td>\n",
       "      <td>February</td>\n",
       "      <td>2017</td>\n",
       "      <td>115470</td>\n",
       "    </tr>\n",
       "    <tr>\n",
       "      <th>332</th>\n",
       "      <td>Wanaparthy</td>\n",
       "      <td>2017-01-09</td>\n",
       "      <td>September</td>\n",
       "      <td>2017</td>\n",
       "      <td>35860</td>\n",
       "    </tr>\n",
       "    <tr>\n",
       "      <th>30</th>\n",
       "      <td>Hyderabad</td>\n",
       "      <td>2019-01-07</td>\n",
       "      <td>July</td>\n",
       "      <td>2019</td>\n",
       "      <td>1094861</td>\n",
       "    </tr>\n",
       "    <tr>\n",
       "      <th>166</th>\n",
       "      <td>Mancherial</td>\n",
       "      <td>2019-01-11</td>\n",
       "      <td>November</td>\n",
       "      <td>2019</td>\n",
       "      <td>29302</td>\n",
       "    </tr>\n",
       "    <tr>\n",
       "      <th>83</th>\n",
       "      <td>Jogulamba Gadwal</td>\n",
       "      <td>2017-01-12</td>\n",
       "      <td>December</td>\n",
       "      <td>2017</td>\n",
       "      <td>214887</td>\n",
       "    </tr>\n",
       "    <tr>\n",
       "      <th>141</th>\n",
       "      <td>Mahabubabad</td>\n",
       "      <td>2017-01-10</td>\n",
       "      <td>October</td>\n",
       "      <td>2017</td>\n",
       "      <td>13750</td>\n",
       "    </tr>\n",
       "    <tr>\n",
       "      <th>326</th>\n",
       "      <td>Wanaparthy</td>\n",
       "      <td>2018-01-03</td>\n",
       "      <td>March</td>\n",
       "      <td>2018</td>\n",
       "      <td>20050</td>\n",
       "    </tr>\n",
       "    <tr>\n",
       "      <th>39</th>\n",
       "      <td>Jagtial</td>\n",
       "      <td>2019-01-04</td>\n",
       "      <td>April</td>\n",
       "      <td>2019</td>\n",
       "      <td>447226</td>\n",
       "    </tr>\n",
       "  </tbody>\n",
       "</table>\n",
       "</div>"
      ],
      "text/plain": [
       "              district       date      month  year  visitors\n",
       "169             Medak  2016-01-02   February  2016    215000\n",
       "228          Nizamabad 2017-01-01    January  2017       613\n",
       "109            Khammam 2017-01-02   February  2017    115470\n",
       "332        Wanaparthy  2017-01-09  September  2017     35860\n",
       "30           Hyderabad 2019-01-07       July  2019   1094861\n",
       "166         Mancherial 2019-01-11   November  2019     29302\n",
       "83   Jogulamba Gadwal  2017-01-12   December  2017    214887\n",
       "141       Mahabubabad  2017-01-10    October  2017     13750\n",
       "326        Wanaparthy  2018-01-03      March  2018     20050\n",
       "39            Jagtial  2019-01-04      April  2019    447226"
      ]
     },
     "execution_count": 19,
     "metadata": {},
     "output_type": "execute_result"
    }
   ],
   "source": [
    "# Printing the Random 10 Rows of Datset\n",
    "\n",
    "Domestic_Visitors.sample(10)"
   ]
  },
  {
   "cell_type": "code",
   "execution_count": 20,
   "id": "5b22447f",
   "metadata": {},
   "outputs": [
    {
     "name": "stdout",
     "output_type": "stream",
     "text": [
      "Total Number of Rows    :  1482\n",
      "Total Number of Columns :  5\n"
     ]
    }
   ],
   "source": [
    "# Printing Total Numbers of Rows and Columns\n",
    "\n",
    "\n",
    "print(\"Total Number of Rows    : \" , Domestic_Visitors.shape[0])\n",
    "print(\"Total Number of Columns : \" , Domestic_Visitors.shape[1])"
   ]
  },
  {
   "cell_type": "code",
   "execution_count": 21,
   "id": "e5383617",
   "metadata": {},
   "outputs": [
    {
     "data": {
      "text/plain": [
       "district    0\n",
       "date        0\n",
       "month       0\n",
       "year        0\n",
       "visitors    0\n",
       "dtype: int64"
      ]
     },
     "execution_count": 21,
     "metadata": {},
     "output_type": "execute_result"
    }
   ],
   "source": [
    "# Printing the Null Values of the Dataset\n",
    "\n",
    "null(Domestic_Visitors)"
   ]
  },
  {
   "cell_type": "code",
   "execution_count": 22,
   "id": "b0c44179",
   "metadata": {},
   "outputs": [
    {
     "data": {
      "text/plain": [
       "0"
      ]
     },
     "execution_count": 22,
     "metadata": {},
     "output_type": "execute_result"
    }
   ],
   "source": [
    "# Printing the Duplicated Values\n",
    "\n",
    "dupli(Domestic_Visitors)"
   ]
  },
  {
   "cell_type": "code",
   "execution_count": 23,
   "id": "30a628ea",
   "metadata": {},
   "outputs": [],
   "source": [
    "# Saving the Domestic_Visitors.csv file\n",
    "\n",
    "Domestic_Visitors.to_csv(\"domestic_visitors.csv\",index=False)"
   ]
  },
  {
   "cell_type": "code",
   "execution_count": 24,
   "id": "41f7052b",
   "metadata": {},
   "outputs": [
    {
     "data": {
      "text/html": [
       "<div>\n",
       "<style scoped>\n",
       "    .dataframe tbody tr th:only-of-type {\n",
       "        vertical-align: middle;\n",
       "    }\n",
       "\n",
       "    .dataframe tbody tr th {\n",
       "        vertical-align: top;\n",
       "    }\n",
       "\n",
       "    .dataframe thead th {\n",
       "        text-align: right;\n",
       "    }\n",
       "</style>\n",
       "<table border=\"1\" class=\"dataframe\">\n",
       "  <thead>\n",
       "    <tr style=\"text-align: right;\">\n",
       "      <th></th>\n",
       "      <th>district</th>\n",
       "      <th>date</th>\n",
       "      <th>month</th>\n",
       "      <th>year</th>\n",
       "      <th>visitors</th>\n",
       "    </tr>\n",
       "  </thead>\n",
       "  <tbody>\n",
       "    <tr>\n",
       "      <th>0</th>\n",
       "      <td>Adilabad</td>\n",
       "      <td>2016-01-01</td>\n",
       "      <td>January</td>\n",
       "      <td>2016</td>\n",
       "      <td>792136</td>\n",
       "    </tr>\n",
       "    <tr>\n",
       "      <th>1</th>\n",
       "      <td>Adilabad</td>\n",
       "      <td>2016-01-02</td>\n",
       "      <td>February</td>\n",
       "      <td>2016</td>\n",
       "      <td>937820</td>\n",
       "    </tr>\n",
       "    <tr>\n",
       "      <th>2</th>\n",
       "      <td>Adilabad</td>\n",
       "      <td>2016-01-03</td>\n",
       "      <td>March</td>\n",
       "      <td>2016</td>\n",
       "      <td>582946</td>\n",
       "    </tr>\n",
       "    <tr>\n",
       "      <th>3</th>\n",
       "      <td>Adilabad</td>\n",
       "      <td>2016-01-04</td>\n",
       "      <td>April</td>\n",
       "      <td>2016</td>\n",
       "      <td>341948</td>\n",
       "    </tr>\n",
       "    <tr>\n",
       "      <th>4</th>\n",
       "      <td>Adilabad</td>\n",
       "      <td>2016-01-05</td>\n",
       "      <td>May</td>\n",
       "      <td>2016</td>\n",
       "      <td>252887</td>\n",
       "    </tr>\n",
       "  </tbody>\n",
       "</table>\n",
       "</div>"
      ],
      "text/plain": [
       "   district        date     month  year  visitors\n",
       "0  Adilabad  2016-01-01   January  2016    792136\n",
       "1  Adilabad  2016-01-02  February  2016    937820\n",
       "2  Adilabad  2016-01-03     March  2016    582946\n",
       "3  Adilabad  2016-01-04     April  2016    341948\n",
       "4  Adilabad  2016-01-05       May  2016    252887"
      ]
     },
     "execution_count": 24,
     "metadata": {},
     "output_type": "execute_result"
    }
   ],
   "source": [
    "data = pd.read_csv(\"domestic_visitors.csv\")\n",
    "data.head()"
   ]
  },
  {
   "cell_type": "code",
   "execution_count": 25,
   "id": "18c0bb97",
   "metadata": {},
   "outputs": [
    {
     "data": {
      "text/plain": [
       "(1482, 5)"
      ]
     },
     "execution_count": 25,
     "metadata": {},
     "output_type": "execute_result"
    }
   ],
   "source": [
    "data.shape"
   ]
  },
  {
   "cell_type": "code",
   "execution_count": 26,
   "id": "17220f7f",
   "metadata": {},
   "outputs": [
    {
     "data": {
      "text/plain": [
       "district    0\n",
       "date        0\n",
       "month       0\n",
       "year        0\n",
       "visitors    0\n",
       "dtype: int64"
      ]
     },
     "execution_count": 26,
     "metadata": {},
     "output_type": "execute_result"
    }
   ],
   "source": [
    "data.isnull().sum()"
   ]
  },
  {
   "cell_type": "code",
   "execution_count": null,
   "id": "8c967e4e",
   "metadata": {},
   "outputs": [],
   "source": []
  },
  {
   "cell_type": "code",
   "execution_count": null,
   "id": "a493451a",
   "metadata": {},
   "outputs": [],
   "source": []
  }
 ],
 "metadata": {
  "kernelspec": {
   "display_name": "Python 3 (ipykernel)",
   "language": "python",
   "name": "python3"
  },
  "language_info": {
   "codemirror_mode": {
    "name": "ipython",
    "version": 3
   },
   "file_extension": ".py",
   "mimetype": "text/x-python",
   "name": "python",
   "nbconvert_exporter": "python",
   "pygments_lexer": "ipython3",
   "version": "3.10.7"
  }
 },
 "nbformat": 4,
 "nbformat_minor": 5
}
