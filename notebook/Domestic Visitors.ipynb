{
 "cells": [
  {
   "cell_type": "code",
   "execution_count": 1,
   "id": "3858c686",
   "metadata": {},
   "outputs": [],
   "source": [
    "import numpy as np\n",
    "import pandas as pd\n",
    "import matplotlib.pyplot as plt\n",
    "import seaborn as sns"
   ]
  },
  {
   "cell_type": "code",
   "execution_count": 2,
   "id": "47bf2c38",
   "metadata": {},
   "outputs": [],
   "source": [
    "df = pd.read_csv(\"domestic_visitors_2016.csv\")\n",
    "df1 = pd.read_csv(\"domestic_visitors_2017.csv\")\n",
    "df2 = pd.read_csv(\"domestic_visitors_2018.csv\")\n",
    "df3 = pd.read_csv(\"domestic_visitors_2019.csv\")"
   ]
  },
  {
   "cell_type": "code",
   "execution_count": 3,
   "id": "ec78c173",
   "metadata": {},
   "outputs": [],
   "source": [
    "def head(n):\n",
    "    return n.head()\n",
    "\n",
    "def shape(n):\n",
    "    return n.shape\n",
    "\n",
    "def null(n):\n",
    "    return n.isnull().sum()\n",
    "\n",
    "def dupli(n):\n",
    "    return n.duplicated().sum()\n",
    "\n",
    "def drpna(n):\n",
    "    n.dropna(inplace=True)"
   ]
  },
  {
   "cell_type": "code",
   "execution_count": 4,
   "id": "cd21af5d",
   "metadata": {},
   "outputs": [
    {
     "name": "stdout",
     "output_type": "stream",
     "text": [
      "2016 \n",
      "    district        date     month  year visitors\n",
      "0  Adilabad  01-01-2016   January  2016   792136\n",
      "1  Adilabad  01-02-2016  February  2016   937820\n",
      "2  Adilabad  01-03-2016     March  2016   582946\n",
      "3  Adilabad  01-04-2016     April  2016   341948\n",
      "4  Adilabad  01-05-2016       May  2016   252887\n",
      "2017 \n",
      "    district        date     month  year visitors\n",
      "0  Adilabad  01-01-2017   January  2017   318799\n",
      "1  Adilabad  01-02-2017  February  2017    83316\n",
      "2  Adilabad  01-03-2017     March  2017    27508\n",
      "3  Adilabad  01-04-2017     April  2017    13946\n",
      "4  Adilabad  01-05-2017       May  2017    11752\n",
      "2018 \n",
      "    district        date     month  year visitors\n",
      "0  Adilabad  01-01-2018   January  2018   320356\n",
      "1  Adilabad  01-02-2018  February  2018    36550\n",
      "2  Adilabad  01-03-2018     March  2018    23011\n",
      "3  Adilabad  01-04-2018     April  2018    14183\n",
      "4  Adilabad  01-05-2018       May  2018     8197\n",
      "2019 \n",
      "    district        date     month  year visitors\n",
      "0  Adilabad  01-01-2019   January  2019    25071\n",
      "1  Adilabad  01-02-2019  February  2019   406177\n",
      "2  Adilabad  01-03-2019     March  2019    14347\n",
      "3  Adilabad  01-04-2019     April  2019     9972\n",
      "4  Adilabad  01-05-2019       May  2019     6997\n"
     ]
    }
   ],
   "source": [
    "print(\"2016 \\n\", head(df))\n",
    "print(\"2017 \\n\", head(df1))\n",
    "print(\"2018 \\n\", head(df2))\n",
    "print(\"2019 \\n\", head(df3))"
   ]
  },
  {
   "cell_type": "code",
   "execution_count": 5,
   "id": "9b2b140b",
   "metadata": {},
   "outputs": [
    {
     "name": "stdout",
     "output_type": "stream",
     "text": [
      "2016 \n",
      " (372, 5)\n",
      "2017 \n",
      " (372, 5)\n",
      "2018 \n",
      " (372, 5)\n",
      "2019 \n",
      " (396, 5)\n"
     ]
    }
   ],
   "source": [
    "print(\"2016 \\n\", shape(df))\n",
    "print(\"2017 \\n\", shape(df1))\n",
    "print(\"2018 \\n\", shape(df2))\n",
    "print(\"2019 \\n\", shape(df3))"
   ]
  },
  {
   "cell_type": "code",
   "execution_count": 6,
   "id": "debdca0a",
   "metadata": {
    "scrolled": false
   },
   "outputs": [
    {
     "name": "stdout",
     "output_type": "stream",
     "text": [
      "2016 \n",
      " district    0\n",
      "date        0\n",
      "month       0\n",
      "year        0\n",
      "visitors    0\n",
      "dtype: int64\n",
      "2017 \n",
      " district    0\n",
      "date        0\n",
      "month       0\n",
      "year        0\n",
      "visitors    0\n",
      "dtype: int64\n",
      "2018 \n",
      " district     0\n",
      "date         0\n",
      "month        0\n",
      "year         0\n",
      "visitors    12\n",
      "dtype: int64\n",
      "2019 \n",
      " district     0\n",
      "date         0\n",
      "month        0\n",
      "year         0\n",
      "visitors    18\n",
      "dtype: int64\n"
     ]
    }
   ],
   "source": [
    "print(\"2016 \\n\", null(df))\n",
    "print(\"2017 \\n\", null(df1))\n",
    "print(\"2018 \\n\", null(df2))\n",
    "print(\"2019 \\n\", null(df3))"
   ]
  },
  {
   "cell_type": "code",
   "execution_count": 7,
   "id": "bb50488e",
   "metadata": {},
   "outputs": [
    {
     "name": "stdout",
     "output_type": "stream",
     "text": [
      "2016 \n",
      " 0\n",
      "2017 \n",
      " 0\n",
      "2018 \n",
      " 0\n",
      "2019 \n",
      " 0\n"
     ]
    }
   ],
   "source": [
    "print(\"2016 \\n\", dupli(df))\n",
    "print(\"2017 \\n\", dupli(df1))\n",
    "print(\"2018 \\n\", dupli(df2))\n",
    "print(\"2019 \\n\", dupli(df3))"
   ]
  },
  {
   "cell_type": "code",
   "execution_count": 8,
   "id": "362499ea",
   "metadata": {},
   "outputs": [
    {
     "name": "stdout",
     "output_type": "stream",
     "text": [
      "2018 \n",
      " None\n",
      "2019 \n",
      " None\n"
     ]
    }
   ],
   "source": [
    "print(\"2018 \\n\", drpna(df2))\n",
    "print(\"2019 \\n\", drpna(df3))"
   ]
  },
  {
   "cell_type": "code",
   "execution_count": 9,
   "id": "9d11e9ec",
   "metadata": {},
   "outputs": [
    {
     "name": "stdout",
     "output_type": "stream",
     "text": [
      "2018 \n",
      " district    0\n",
      "date        0\n",
      "month       0\n",
      "year        0\n",
      "visitors    0\n",
      "dtype: int64\n",
      "2019 \n",
      " district    0\n",
      "date        0\n",
      "month       0\n",
      "year        0\n",
      "visitors    0\n",
      "dtype: int64\n"
     ]
    }
   ],
   "source": [
    "print(\"2018 \\n\", null(df2))\n",
    "print(\"2019 \\n\", null(df3))"
   ]
  },
  {
   "cell_type": "code",
   "execution_count": 23,
   "id": "96fe0429",
   "metadata": {},
   "outputs": [],
   "source": [
    "df['date'] = pd.to_datetime(df['date'])\n",
    "df1['date'] = pd.to_datetime(df1['date'])\n",
    "df2['date'] = pd.to_datetime(df2['date'])\n",
    "df3['date'] = pd.to_datetime(df3['date'])"
   ]
  },
  {
   "cell_type": "code",
   "execution_count": 36,
   "id": "53ca6a53",
   "metadata": {},
   "outputs": [],
   "source": [
    "df['year'] = df['year'].astype('int32')\n",
    "df1['year'] = df1['year'].astype('int32')\n",
    "df2['year'] = df2['year'].astype('int32')\n",
    "df3['year'] = df3['year'].astype('int32')"
   ]
  },
  {
   "cell_type": "code",
   "execution_count": null,
   "id": "c2f4e071",
   "metadata": {},
   "outputs": [],
   "source": []
  },
  {
   "cell_type": "code",
   "execution_count": null,
   "id": "d273d0da",
   "metadata": {},
   "outputs": [],
   "source": []
  },
  {
   "cell_type": "code",
   "execution_count": 51,
   "id": "ee2b1432",
   "metadata": {},
   "outputs": [],
   "source": [
    "Domestic_Visitors = pd.concat([df,df1, df2,df3], axis=0)"
   ]
  },
  {
   "cell_type": "code",
   "execution_count": 52,
   "id": "5b22447f",
   "metadata": {},
   "outputs": [
    {
     "data": {
      "text/plain": [
       "(1482, 5)"
      ]
     },
     "execution_count": 52,
     "metadata": {},
     "output_type": "execute_result"
    }
   ],
   "source": [
    "shape(Domestic_Visitors)"
   ]
  },
  {
   "cell_type": "code",
   "execution_count": 53,
   "id": "e5383617",
   "metadata": {},
   "outputs": [
    {
     "data": {
      "text/plain": [
       "district    0\n",
       "date        0\n",
       "month       0\n",
       "year        0\n",
       "visitors    0\n",
       "dtype: int64"
      ]
     },
     "execution_count": 53,
     "metadata": {},
     "output_type": "execute_result"
    }
   ],
   "source": [
    "null(Domestic_Visitors)"
   ]
  },
  {
   "cell_type": "code",
   "execution_count": 54,
   "id": "b0c44179",
   "metadata": {},
   "outputs": [
    {
     "data": {
      "text/plain": [
       "0"
      ]
     },
     "execution_count": 54,
     "metadata": {},
     "output_type": "execute_result"
    }
   ],
   "source": [
    "dupli(Domestic_Visitors)"
   ]
  },
  {
   "cell_type": "code",
   "execution_count": 55,
   "id": "f560791b",
   "metadata": {},
   "outputs": [
    {
     "data": {
      "text/html": [
       "<div>\n",
       "<style scoped>\n",
       "    .dataframe tbody tr th:only-of-type {\n",
       "        vertical-align: middle;\n",
       "    }\n",
       "\n",
       "    .dataframe tbody tr th {\n",
       "        vertical-align: top;\n",
       "    }\n",
       "\n",
       "    .dataframe thead th {\n",
       "        text-align: right;\n",
       "    }\n",
       "</style>\n",
       "<table border=\"1\" class=\"dataframe\">\n",
       "  <thead>\n",
       "    <tr style=\"text-align: right;\">\n",
       "      <th></th>\n",
       "      <th>district</th>\n",
       "      <th>date</th>\n",
       "      <th>month</th>\n",
       "      <th>year</th>\n",
       "      <th>visitors</th>\n",
       "    </tr>\n",
       "  </thead>\n",
       "  <tbody>\n",
       "    <tr>\n",
       "      <th>0</th>\n",
       "      <td>Adilabad</td>\n",
       "      <td>2016-01-01</td>\n",
       "      <td>January</td>\n",
       "      <td>2016</td>\n",
       "      <td>792136</td>\n",
       "    </tr>\n",
       "    <tr>\n",
       "      <th>1</th>\n",
       "      <td>Adilabad</td>\n",
       "      <td>2016-01-02</td>\n",
       "      <td>February</td>\n",
       "      <td>2016</td>\n",
       "      <td>937820</td>\n",
       "    </tr>\n",
       "    <tr>\n",
       "      <th>2</th>\n",
       "      <td>Adilabad</td>\n",
       "      <td>2016-01-03</td>\n",
       "      <td>March</td>\n",
       "      <td>2016</td>\n",
       "      <td>582946</td>\n",
       "    </tr>\n",
       "    <tr>\n",
       "      <th>3</th>\n",
       "      <td>Adilabad</td>\n",
       "      <td>2016-01-04</td>\n",
       "      <td>April</td>\n",
       "      <td>2016</td>\n",
       "      <td>341948</td>\n",
       "    </tr>\n",
       "    <tr>\n",
       "      <th>4</th>\n",
       "      <td>Adilabad</td>\n",
       "      <td>2016-01-05</td>\n",
       "      <td>May</td>\n",
       "      <td>2016</td>\n",
       "      <td>252887</td>\n",
       "    </tr>\n",
       "  </tbody>\n",
       "</table>\n",
       "</div>"
      ],
      "text/plain": [
       "   district       date     month  year visitors\n",
       "0  Adilabad 2016-01-01   January  2016   792136\n",
       "1  Adilabad 2016-01-02  February  2016   937820\n",
       "2  Adilabad 2016-01-03     March  2016   582946\n",
       "3  Adilabad 2016-01-04     April  2016   341948\n",
       "4  Adilabad 2016-01-05       May  2016   252887"
      ]
     },
     "execution_count": 55,
     "metadata": {},
     "output_type": "execute_result"
    }
   ],
   "source": [
    "head(Domestic_Visitors)"
   ]
  },
  {
   "cell_type": "code",
   "execution_count": 56,
   "id": "175029db",
   "metadata": {},
   "outputs": [
    {
     "data": {
      "text/html": [
       "<div>\n",
       "<style scoped>\n",
       "    .dataframe tbody tr th:only-of-type {\n",
       "        vertical-align: middle;\n",
       "    }\n",
       "\n",
       "    .dataframe tbody tr th {\n",
       "        vertical-align: top;\n",
       "    }\n",
       "\n",
       "    .dataframe thead th {\n",
       "        text-align: right;\n",
       "    }\n",
       "</style>\n",
       "<table border=\"1\" class=\"dataframe\">\n",
       "  <thead>\n",
       "    <tr style=\"text-align: right;\">\n",
       "      <th></th>\n",
       "      <th>district</th>\n",
       "      <th>date</th>\n",
       "      <th>month</th>\n",
       "      <th>year</th>\n",
       "      <th>visitors</th>\n",
       "    </tr>\n",
       "  </thead>\n",
       "  <tbody>\n",
       "    <tr>\n",
       "      <th>391</th>\n",
       "      <td>Yadadri Bhongir</td>\n",
       "      <td>2019-01-08</td>\n",
       "      <td>August</td>\n",
       "      <td>2019</td>\n",
       "      <td>389010</td>\n",
       "    </tr>\n",
       "    <tr>\n",
       "      <th>392</th>\n",
       "      <td>Yadadri Bhongir</td>\n",
       "      <td>2019-01-09</td>\n",
       "      <td>September</td>\n",
       "      <td>2019</td>\n",
       "      <td>366862</td>\n",
       "    </tr>\n",
       "    <tr>\n",
       "      <th>393</th>\n",
       "      <td>Yadadri Bhongir</td>\n",
       "      <td>2019-01-10</td>\n",
       "      <td>October</td>\n",
       "      <td>2019</td>\n",
       "      <td>381860</td>\n",
       "    </tr>\n",
       "    <tr>\n",
       "      <th>394</th>\n",
       "      <td>Yadadri Bhongir</td>\n",
       "      <td>2019-01-11</td>\n",
       "      <td>November</td>\n",
       "      <td>2019</td>\n",
       "      <td>365990</td>\n",
       "    </tr>\n",
       "    <tr>\n",
       "      <th>395</th>\n",
       "      <td>Yadadri Bhongir</td>\n",
       "      <td>2019-01-12</td>\n",
       "      <td>December</td>\n",
       "      <td>2019</td>\n",
       "      <td>477635</td>\n",
       "    </tr>\n",
       "  </tbody>\n",
       "</table>\n",
       "</div>"
      ],
      "text/plain": [
       "            district       date      month  year visitors\n",
       "391  Yadadri Bhongir 2019-01-08     August  2019   389010\n",
       "392  Yadadri Bhongir 2019-01-09  September  2019   366862\n",
       "393  Yadadri Bhongir 2019-01-10    October  2019   381860\n",
       "394  Yadadri Bhongir 2019-01-11   November  2019   365990\n",
       "395  Yadadri Bhongir 2019-01-12   December  2019   477635"
      ]
     },
     "execution_count": 56,
     "metadata": {},
     "output_type": "execute_result"
    }
   ],
   "source": [
    "Domestic_Visitors.tail()"
   ]
  },
  {
   "cell_type": "code",
   "execution_count": 57,
   "id": "42ad6c07",
   "metadata": {},
   "outputs": [
    {
     "data": {
      "text/html": [
       "<div>\n",
       "<style scoped>\n",
       "    .dataframe tbody tr th:only-of-type {\n",
       "        vertical-align: middle;\n",
       "    }\n",
       "\n",
       "    .dataframe tbody tr th {\n",
       "        vertical-align: top;\n",
       "    }\n",
       "\n",
       "    .dataframe thead th {\n",
       "        text-align: right;\n",
       "    }\n",
       "</style>\n",
       "<table border=\"1\" class=\"dataframe\">\n",
       "  <thead>\n",
       "    <tr style=\"text-align: right;\">\n",
       "      <th></th>\n",
       "      <th>district</th>\n",
       "      <th>date</th>\n",
       "      <th>month</th>\n",
       "      <th>year</th>\n",
       "      <th>visitors</th>\n",
       "    </tr>\n",
       "  </thead>\n",
       "  <tbody>\n",
       "    <tr>\n",
       "      <th>0</th>\n",
       "      <td>Adilabad</td>\n",
       "      <td>2016-01-01</td>\n",
       "      <td>January</td>\n",
       "      <td>2016</td>\n",
       "      <td>792136</td>\n",
       "    </tr>\n",
       "    <tr>\n",
       "      <th>1</th>\n",
       "      <td>Adilabad</td>\n",
       "      <td>2016-01-02</td>\n",
       "      <td>February</td>\n",
       "      <td>2016</td>\n",
       "      <td>937820</td>\n",
       "    </tr>\n",
       "    <tr>\n",
       "      <th>2</th>\n",
       "      <td>Adilabad</td>\n",
       "      <td>2016-01-03</td>\n",
       "      <td>March</td>\n",
       "      <td>2016</td>\n",
       "      <td>582946</td>\n",
       "    </tr>\n",
       "    <tr>\n",
       "      <th>3</th>\n",
       "      <td>Adilabad</td>\n",
       "      <td>2016-01-04</td>\n",
       "      <td>April</td>\n",
       "      <td>2016</td>\n",
       "      <td>341948</td>\n",
       "    </tr>\n",
       "    <tr>\n",
       "      <th>4</th>\n",
       "      <td>Adilabad</td>\n",
       "      <td>2016-01-05</td>\n",
       "      <td>May</td>\n",
       "      <td>2016</td>\n",
       "      <td>252887</td>\n",
       "    </tr>\n",
       "  </tbody>\n",
       "</table>\n",
       "</div>"
      ],
      "text/plain": [
       "   district       date     month  year visitors\n",
       "0  Adilabad 2016-01-01   January  2016   792136\n",
       "1  Adilabad 2016-01-02  February  2016   937820\n",
       "2  Adilabad 2016-01-03     March  2016   582946\n",
       "3  Adilabad 2016-01-04     April  2016   341948\n",
       "4  Adilabad 2016-01-05       May  2016   252887"
      ]
     },
     "execution_count": 57,
     "metadata": {},
     "output_type": "execute_result"
    }
   ],
   "source": [
    "Domestic_Visitors.head()"
   ]
  },
  {
   "cell_type": "code",
   "execution_count": 58,
   "id": "75e7ec25",
   "metadata": {},
   "outputs": [
    {
     "data": {
      "text/html": [
       "<div>\n",
       "<style scoped>\n",
       "    .dataframe tbody tr th:only-of-type {\n",
       "        vertical-align: middle;\n",
       "    }\n",
       "\n",
       "    .dataframe tbody tr th {\n",
       "        vertical-align: top;\n",
       "    }\n",
       "\n",
       "    .dataframe thead th {\n",
       "        text-align: right;\n",
       "    }\n",
       "</style>\n",
       "<table border=\"1\" class=\"dataframe\">\n",
       "  <thead>\n",
       "    <tr style=\"text-align: right;\">\n",
       "      <th></th>\n",
       "      <th>district</th>\n",
       "      <th>date</th>\n",
       "      <th>month</th>\n",
       "      <th>year</th>\n",
       "      <th>visitors</th>\n",
       "    </tr>\n",
       "  </thead>\n",
       "  <tbody>\n",
       "    <tr>\n",
       "      <th>319</th>\n",
       "      <td>Siddipet</td>\n",
       "      <td>2019-01-08</td>\n",
       "      <td>August</td>\n",
       "      <td>2019</td>\n",
       "      <td>190750</td>\n",
       "    </tr>\n",
       "    <tr>\n",
       "      <th>270</th>\n",
       "      <td>Ranga Reddy</td>\n",
       "      <td>2016-01-07</td>\n",
       "      <td>July</td>\n",
       "      <td>2016</td>\n",
       "      <td></td>\n",
       "    </tr>\n",
       "    <tr>\n",
       "      <th>253</th>\n",
       "      <td>Rajanna Sircilla</td>\n",
       "      <td>2018-01-02</td>\n",
       "      <td>February</td>\n",
       "      <td>2018</td>\n",
       "      <td>1021787</td>\n",
       "    </tr>\n",
       "    <tr>\n",
       "      <th>100</th>\n",
       "      <td>Karimnagar</td>\n",
       "      <td>2016-01-05</td>\n",
       "      <td>May</td>\n",
       "      <td>2016</td>\n",
       "      <td>1095642</td>\n",
       "    </tr>\n",
       "    <tr>\n",
       "      <th>55</th>\n",
       "      <td>Jangaon</td>\n",
       "      <td>2016-01-08</td>\n",
       "      <td>August</td>\n",
       "      <td>2016</td>\n",
       "      <td></td>\n",
       "    </tr>\n",
       "    <tr>\n",
       "      <th>64</th>\n",
       "      <td>Jayashankar Bhoopalpally</td>\n",
       "      <td>2016-01-05</td>\n",
       "      <td>May</td>\n",
       "      <td>2016</td>\n",
       "      <td></td>\n",
       "    </tr>\n",
       "    <tr>\n",
       "      <th>300</th>\n",
       "      <td>Suryapet</td>\n",
       "      <td>2017-01-01</td>\n",
       "      <td>January</td>\n",
       "      <td>2017</td>\n",
       "      <td>0</td>\n",
       "    </tr>\n",
       "    <tr>\n",
       "      <th>15</th>\n",
       "      <td>Bhadradri Kothagudem</td>\n",
       "      <td>2018-01-04</td>\n",
       "      <td>April</td>\n",
       "      <td>2018</td>\n",
       "      <td>341258</td>\n",
       "    </tr>\n",
       "    <tr>\n",
       "      <th>275</th>\n",
       "      <td>Peddapalli</td>\n",
       "      <td>2019-01-12</td>\n",
       "      <td>December</td>\n",
       "      <td>2019</td>\n",
       "      <td>2315</td>\n",
       "    </tr>\n",
       "    <tr>\n",
       "      <th>359</th>\n",
       "      <td>Warangal (Urban)</td>\n",
       "      <td>2018-01-12</td>\n",
       "      <td>December</td>\n",
       "      <td>2018</td>\n",
       "      <td>180643</td>\n",
       "    </tr>\n",
       "  </tbody>\n",
       "</table>\n",
       "</div>"
      ],
      "text/plain": [
       "                     district       date     month  year visitors\n",
       "319                  Siddipet 2019-01-08    August  2019   190750\n",
       "270               Ranga Reddy 2016-01-07      July  2016         \n",
       "253         Rajanna Sircilla  2018-01-02  February  2018  1021787\n",
       "100               Karimnagar  2016-01-05       May  2016  1095642\n",
       "55                   Jangaon  2016-01-08    August  2016         \n",
       "64   Jayashankar Bhoopalpally 2016-01-05       May  2016         \n",
       "300                  Suryapet 2017-01-01   January  2017        0\n",
       "15      Bhadradri Kothagudem  2018-01-04     April  2018   341258\n",
       "275                Peddapalli 2019-01-12  December  2019     2315\n",
       "359          Warangal (Urban) 2018-01-12  December  2018   180643"
      ]
     },
     "execution_count": 58,
     "metadata": {},
     "output_type": "execute_result"
    }
   ],
   "source": [
    "Domestic_Visitors.sample(10)"
   ]
  },
  {
   "cell_type": "code",
   "execution_count": 59,
   "id": "c74b53d4",
   "metadata": {},
   "outputs": [
    {
     "data": {
      "text/plain": [
       "(1482, 5)"
      ]
     },
     "execution_count": 59,
     "metadata": {},
     "output_type": "execute_result"
    }
   ],
   "source": [
    "Domestic_Visitors.shape"
   ]
  },
  {
   "cell_type": "code",
   "execution_count": 60,
   "id": "b97b93cf",
   "metadata": {},
   "outputs": [
    {
     "data": {
      "text/plain": [
       "district    0\n",
       "date        0\n",
       "month       0\n",
       "year        0\n",
       "visitors    0\n",
       "dtype: int64"
      ]
     },
     "execution_count": 60,
     "metadata": {},
     "output_type": "execute_result"
    }
   ],
   "source": [
    "Domestic_Visitors.isnull().sum()"
   ]
  },
  {
   "cell_type": "code",
   "execution_count": 61,
   "id": "20d60272",
   "metadata": {},
   "outputs": [
    {
     "data": {
      "text/html": [
       "<div>\n",
       "<style scoped>\n",
       "    .dataframe tbody tr th:only-of-type {\n",
       "        vertical-align: middle;\n",
       "    }\n",
       "\n",
       "    .dataframe tbody tr th {\n",
       "        vertical-align: top;\n",
       "    }\n",
       "\n",
       "    .dataframe thead th {\n",
       "        text-align: right;\n",
       "    }\n",
       "</style>\n",
       "<table border=\"1\" class=\"dataframe\">\n",
       "  <thead>\n",
       "    <tr style=\"text-align: right;\">\n",
       "      <th></th>\n",
       "      <th>district</th>\n",
       "      <th>date</th>\n",
       "      <th>month</th>\n",
       "      <th>year</th>\n",
       "      <th>visitors</th>\n",
       "    </tr>\n",
       "  </thead>\n",
       "  <tbody>\n",
       "    <tr>\n",
       "      <th>391</th>\n",
       "      <td>Yadadri Bhongir</td>\n",
       "      <td>2019-01-08</td>\n",
       "      <td>August</td>\n",
       "      <td>2019</td>\n",
       "      <td>389010</td>\n",
       "    </tr>\n",
       "    <tr>\n",
       "      <th>392</th>\n",
       "      <td>Yadadri Bhongir</td>\n",
       "      <td>2019-01-09</td>\n",
       "      <td>September</td>\n",
       "      <td>2019</td>\n",
       "      <td>366862</td>\n",
       "    </tr>\n",
       "    <tr>\n",
       "      <th>393</th>\n",
       "      <td>Yadadri Bhongir</td>\n",
       "      <td>2019-01-10</td>\n",
       "      <td>October</td>\n",
       "      <td>2019</td>\n",
       "      <td>381860</td>\n",
       "    </tr>\n",
       "    <tr>\n",
       "      <th>394</th>\n",
       "      <td>Yadadri Bhongir</td>\n",
       "      <td>2019-01-11</td>\n",
       "      <td>November</td>\n",
       "      <td>2019</td>\n",
       "      <td>365990</td>\n",
       "    </tr>\n",
       "    <tr>\n",
       "      <th>395</th>\n",
       "      <td>Yadadri Bhongir</td>\n",
       "      <td>2019-01-12</td>\n",
       "      <td>December</td>\n",
       "      <td>2019</td>\n",
       "      <td>477635</td>\n",
       "    </tr>\n",
       "  </tbody>\n",
       "</table>\n",
       "</div>"
      ],
      "text/plain": [
       "            district       date      month  year visitors\n",
       "391  Yadadri Bhongir 2019-01-08     August  2019   389010\n",
       "392  Yadadri Bhongir 2019-01-09  September  2019   366862\n",
       "393  Yadadri Bhongir 2019-01-10    October  2019   381860\n",
       "394  Yadadri Bhongir 2019-01-11   November  2019   365990\n",
       "395  Yadadri Bhongir 2019-01-12   December  2019   477635"
      ]
     },
     "execution_count": 61,
     "metadata": {},
     "output_type": "execute_result"
    }
   ],
   "source": [
    "Domestic_Visitors.tail()"
   ]
  },
  {
   "cell_type": "code",
   "execution_count": 76,
   "id": "1ecfe32e",
   "metadata": {},
   "outputs": [],
   "source": [
    "# Domestic_Visitors['visitors'] = Domestic_Visitors['visitors'].astype('int32')\n",
    "\n",
    "# Replace missing and infinite values with 0\n",
    "# Domestic_Visitors['visitors'].replace([np.inf, -np.inf], np.nan, inplace=True)\n",
    "# Domestic_Visitors['visitors'].fillna(0, inplace=True)\n",
    "\n",
    "# # Cast the column to an integer data type\n",
    "# Domestic_Visitors['visitors'] = Domestic_Visitors['visitors'].astype('int32')\n",
    "\n",
    "\n",
    "\n",
    "# Domestic_Visitors['visitors'].replace([np.inf, -np.inf], np.nan, inplace=True)\n",
    "# Domestic_Visitors['visitors'].fillna(0, inplace=True)\n",
    "# Domestic_Visitors['visitors'] = Domestic_Visitors['visitors'].astype('int32')\n",
    "\n",
    "\n",
    "# # Replace blank or empty strings with NaN values\n",
    "# Domestic_Visitors['visitors'].replace('', np.nan, inplace=True)\n",
    "\n",
    "# # Fill NaN values with 0\n",
    "# Domestic_Visitors['visitors'].fillna(0, inplace=True)\n",
    "\n",
    "# # Cast the column to an integer data type\n",
    "# Domestic_Visitors['visitors'] = Domestic_Visitors['visitors'].astype('int32')\n",
    "\n",
    "\n",
    "\n",
    "# Replace missing and non-numeric values with 0\n",
    "Domestic_Visitors['visitors'] = pd.to_numeric(Domestic_Visitors['visitors'], errors='coerce')\n",
    "Domestic_Visitors['visitors'].fillna(0, inplace=True)\n",
    "\n",
    "# Cast the column to an integer data type\n",
    "Domestic_Visitors['visitors'] = Domestic_Visitors['visitors'].astype('int32')"
   ]
  },
  {
   "cell_type": "code",
   "execution_count": 77,
   "id": "3a5ec574",
   "metadata": {},
   "outputs": [
    {
     "name": "stdout",
     "output_type": "stream",
     "text": [
      "<class 'pandas.core.frame.DataFrame'>\n",
      "Int64Index: 1482 entries, 0 to 395\n",
      "Data columns (total 5 columns):\n",
      " #   Column    Non-Null Count  Dtype         \n",
      "---  ------    --------------  -----         \n",
      " 0   district  1482 non-null   object        \n",
      " 1   date      1482 non-null   datetime64[ns]\n",
      " 2   month     1482 non-null   object        \n",
      " 3   year      1482 non-null   int32         \n",
      " 4   visitors  1482 non-null   int32         \n",
      "dtypes: datetime64[ns](1), int32(2), object(2)\n",
      "memory usage: 57.9+ KB\n"
     ]
    }
   ],
   "source": [
    "Domestic_Visitors.info()"
   ]
  },
  {
   "cell_type": "code",
   "execution_count": 79,
   "id": "bf0c05cd",
   "metadata": {},
   "outputs": [
    {
     "data": {
      "text/html": [
       "<div>\n",
       "<style scoped>\n",
       "    .dataframe tbody tr th:only-of-type {\n",
       "        vertical-align: middle;\n",
       "    }\n",
       "\n",
       "    .dataframe tbody tr th {\n",
       "        vertical-align: top;\n",
       "    }\n",
       "\n",
       "    .dataframe thead th {\n",
       "        text-align: right;\n",
       "    }\n",
       "</style>\n",
       "<table border=\"1\" class=\"dataframe\">\n",
       "  <thead>\n",
       "    <tr style=\"text-align: right;\">\n",
       "      <th></th>\n",
       "      <th>district</th>\n",
       "      <th>date</th>\n",
       "      <th>month</th>\n",
       "      <th>year</th>\n",
       "      <th>visitors</th>\n",
       "    </tr>\n",
       "  </thead>\n",
       "  <tbody>\n",
       "    <tr>\n",
       "      <th>0</th>\n",
       "      <td>Adilabad</td>\n",
       "      <td>2016-01-01</td>\n",
       "      <td>January</td>\n",
       "      <td>2016</td>\n",
       "      <td>792136</td>\n",
       "    </tr>\n",
       "    <tr>\n",
       "      <th>1</th>\n",
       "      <td>Adilabad</td>\n",
       "      <td>2016-01-02</td>\n",
       "      <td>February</td>\n",
       "      <td>2016</td>\n",
       "      <td>937820</td>\n",
       "    </tr>\n",
       "    <tr>\n",
       "      <th>2</th>\n",
       "      <td>Adilabad</td>\n",
       "      <td>2016-01-03</td>\n",
       "      <td>March</td>\n",
       "      <td>2016</td>\n",
       "      <td>582946</td>\n",
       "    </tr>\n",
       "    <tr>\n",
       "      <th>3</th>\n",
       "      <td>Adilabad</td>\n",
       "      <td>2016-01-04</td>\n",
       "      <td>April</td>\n",
       "      <td>2016</td>\n",
       "      <td>341948</td>\n",
       "    </tr>\n",
       "    <tr>\n",
       "      <th>4</th>\n",
       "      <td>Adilabad</td>\n",
       "      <td>2016-01-05</td>\n",
       "      <td>May</td>\n",
       "      <td>2016</td>\n",
       "      <td>252887</td>\n",
       "    </tr>\n",
       "  </tbody>\n",
       "</table>\n",
       "</div>"
      ],
      "text/plain": [
       "   district       date     month  year  visitors\n",
       "0  Adilabad 2016-01-01   January  2016    792136\n",
       "1  Adilabad 2016-01-02  February  2016    937820\n",
       "2  Adilabad 2016-01-03     March  2016    582946\n",
       "3  Adilabad 2016-01-04     April  2016    341948\n",
       "4  Adilabad 2016-01-05       May  2016    252887"
      ]
     },
     "execution_count": 79,
     "metadata": {},
     "output_type": "execute_result"
    }
   ],
   "source": [
    "Domestic_Visitors.head()"
   ]
  },
  {
   "cell_type": "code",
   "execution_count": null,
   "id": "bc167aa3",
   "metadata": {},
   "outputs": [],
   "source": []
  },
  {
   "cell_type": "code",
   "execution_count": null,
   "id": "6bcf9db0",
   "metadata": {},
   "outputs": [],
   "source": []
  },
  {
   "cell_type": "code",
   "execution_count": null,
   "id": "63745e56",
   "metadata": {},
   "outputs": [],
   "source": []
  },
  {
   "cell_type": "code",
   "execution_count": 80,
   "id": "30a628ea",
   "metadata": {},
   "outputs": [],
   "source": [
    "Domestic_Visitors.to_csv(\"Domestic_Visitors.csv\",index=False)"
   ]
  },
  {
   "cell_type": "code",
   "execution_count": 81,
   "id": "41f7052b",
   "metadata": {},
   "outputs": [
    {
     "data": {
      "text/html": [
       "<div>\n",
       "<style scoped>\n",
       "    .dataframe tbody tr th:only-of-type {\n",
       "        vertical-align: middle;\n",
       "    }\n",
       "\n",
       "    .dataframe tbody tr th {\n",
       "        vertical-align: top;\n",
       "    }\n",
       "\n",
       "    .dataframe thead th {\n",
       "        text-align: right;\n",
       "    }\n",
       "</style>\n",
       "<table border=\"1\" class=\"dataframe\">\n",
       "  <thead>\n",
       "    <tr style=\"text-align: right;\">\n",
       "      <th></th>\n",
       "      <th>district</th>\n",
       "      <th>date</th>\n",
       "      <th>month</th>\n",
       "      <th>year</th>\n",
       "      <th>visitors</th>\n",
       "    </tr>\n",
       "  </thead>\n",
       "  <tbody>\n",
       "    <tr>\n",
       "      <th>0</th>\n",
       "      <td>Adilabad</td>\n",
       "      <td>2016-01-01</td>\n",
       "      <td>January</td>\n",
       "      <td>2016</td>\n",
       "      <td>792136</td>\n",
       "    </tr>\n",
       "    <tr>\n",
       "      <th>1</th>\n",
       "      <td>Adilabad</td>\n",
       "      <td>2016-01-02</td>\n",
       "      <td>February</td>\n",
       "      <td>2016</td>\n",
       "      <td>937820</td>\n",
       "    </tr>\n",
       "    <tr>\n",
       "      <th>2</th>\n",
       "      <td>Adilabad</td>\n",
       "      <td>2016-01-03</td>\n",
       "      <td>March</td>\n",
       "      <td>2016</td>\n",
       "      <td>582946</td>\n",
       "    </tr>\n",
       "    <tr>\n",
       "      <th>3</th>\n",
       "      <td>Adilabad</td>\n",
       "      <td>2016-01-04</td>\n",
       "      <td>April</td>\n",
       "      <td>2016</td>\n",
       "      <td>341948</td>\n",
       "    </tr>\n",
       "    <tr>\n",
       "      <th>4</th>\n",
       "      <td>Adilabad</td>\n",
       "      <td>2016-01-05</td>\n",
       "      <td>May</td>\n",
       "      <td>2016</td>\n",
       "      <td>252887</td>\n",
       "    </tr>\n",
       "  </tbody>\n",
       "</table>\n",
       "</div>"
      ],
      "text/plain": [
       "   district        date     month  year  visitors\n",
       "0  Adilabad  2016-01-01   January  2016    792136\n",
       "1  Adilabad  2016-01-02  February  2016    937820\n",
       "2  Adilabad  2016-01-03     March  2016    582946\n",
       "3  Adilabad  2016-01-04     April  2016    341948\n",
       "4  Adilabad  2016-01-05       May  2016    252887"
      ]
     },
     "execution_count": 81,
     "metadata": {},
     "output_type": "execute_result"
    }
   ],
   "source": [
    "data = pd.read_csv(\"Domestic_Visitors.csv\")\n",
    "data.head()"
   ]
  },
  {
   "cell_type": "code",
   "execution_count": 89,
   "id": "18c0bb97",
   "metadata": {},
   "outputs": [
    {
     "data": {
      "text/plain": [
       "(1482, 5)"
      ]
     },
     "execution_count": 89,
     "metadata": {},
     "output_type": "execute_result"
    }
   ],
   "source": [
    "data.shape"
   ]
  },
  {
   "cell_type": "code",
   "execution_count": 82,
   "id": "17220f7f",
   "metadata": {},
   "outputs": [
    {
     "data": {
      "text/plain": [
       "district    0\n",
       "date        0\n",
       "month       0\n",
       "year        0\n",
       "visitors    0\n",
       "dtype: int64"
      ]
     },
     "execution_count": 82,
     "metadata": {},
     "output_type": "execute_result"
    }
   ],
   "source": [
    "data.isnull().sum()"
   ]
  },
  {
   "cell_type": "code",
   "execution_count": 83,
   "id": "9dfe9448",
   "metadata": {},
   "outputs": [],
   "source": [
    "# data.visitors = data.visitors.str.replace('','0')"
   ]
  },
  {
   "cell_type": "code",
   "execution_count": 84,
   "id": "eb1da397",
   "metadata": {},
   "outputs": [],
   "source": [
    "# data.visitors = data.visitors.str.replace('0','')"
   ]
  },
  {
   "cell_type": "code",
   "execution_count": 85,
   "id": "58a547d3",
   "metadata": {},
   "outputs": [
    {
     "data": {
      "text/plain": [
       "district    0\n",
       "date        0\n",
       "month       0\n",
       "year        0\n",
       "visitors    0\n",
       "dtype: int64"
      ]
     },
     "execution_count": 85,
     "metadata": {},
     "output_type": "execute_result"
    }
   ],
   "source": [
    "data.isnull().sum()"
   ]
  },
  {
   "cell_type": "code",
   "execution_count": 86,
   "id": "1ce7672d",
   "metadata": {},
   "outputs": [
    {
     "data": {
      "text/html": [
       "<div>\n",
       "<style scoped>\n",
       "    .dataframe tbody tr th:only-of-type {\n",
       "        vertical-align: middle;\n",
       "    }\n",
       "\n",
       "    .dataframe tbody tr th {\n",
       "        vertical-align: top;\n",
       "    }\n",
       "\n",
       "    .dataframe thead th {\n",
       "        text-align: right;\n",
       "    }\n",
       "</style>\n",
       "<table border=\"1\" class=\"dataframe\">\n",
       "  <thead>\n",
       "    <tr style=\"text-align: right;\">\n",
       "      <th></th>\n",
       "      <th>district</th>\n",
       "      <th>date</th>\n",
       "      <th>month</th>\n",
       "      <th>year</th>\n",
       "      <th>visitors</th>\n",
       "    </tr>\n",
       "  </thead>\n",
       "  <tbody>\n",
       "    <tr>\n",
       "      <th>276</th>\n",
       "      <td>Sangareddy</td>\n",
       "      <td>2016-01-01</td>\n",
       "      <td>January</td>\n",
       "      <td>2016</td>\n",
       "      <td>0</td>\n",
       "    </tr>\n",
       "    <tr>\n",
       "      <th>1263</th>\n",
       "      <td>Mancherial</td>\n",
       "      <td>2019-01-04</td>\n",
       "      <td>April</td>\n",
       "      <td>2019</td>\n",
       "      <td>23026</td>\n",
       "    </tr>\n",
       "    <tr>\n",
       "      <th>996</th>\n",
       "      <td>Rajanna Sircilla</td>\n",
       "      <td>2018-01-01</td>\n",
       "      <td>January</td>\n",
       "      <td>2018</td>\n",
       "      <td>2238074</td>\n",
       "    </tr>\n",
       "    <tr>\n",
       "      <th>677</th>\n",
       "      <td>Suryapet</td>\n",
       "      <td>2017-01-06</td>\n",
       "      <td>June</td>\n",
       "      <td>2017</td>\n",
       "      <td>0</td>\n",
       "    </tr>\n",
       "    <tr>\n",
       "      <th>901</th>\n",
       "      <td>Mancherial</td>\n",
       "      <td>2018-01-02</td>\n",
       "      <td>February</td>\n",
       "      <td>2018</td>\n",
       "      <td>38599</td>\n",
       "    </tr>\n",
       "    <tr>\n",
       "      <th>525</th>\n",
       "      <td>Mahbubnagar</td>\n",
       "      <td>2017-01-10</td>\n",
       "      <td>October</td>\n",
       "      <td>2017</td>\n",
       "      <td>196103</td>\n",
       "    </tr>\n",
       "    <tr>\n",
       "      <th>1457</th>\n",
       "      <td>Warangal (Rural)</td>\n",
       "      <td>2019-01-12</td>\n",
       "      <td>December</td>\n",
       "      <td>2019</td>\n",
       "      <td>32050</td>\n",
       "    </tr>\n",
       "    <tr>\n",
       "      <th>634</th>\n",
       "      <td>Rajanna Sircilla</td>\n",
       "      <td>2017-01-11</td>\n",
       "      <td>November</td>\n",
       "      <td>2017</td>\n",
       "      <td>1191129</td>\n",
       "    </tr>\n",
       "    <tr>\n",
       "      <th>733</th>\n",
       "      <td>Yadadri Bhongir</td>\n",
       "      <td>2017-01-02</td>\n",
       "      <td>February</td>\n",
       "      <td>2017</td>\n",
       "      <td>540500</td>\n",
       "    </tr>\n",
       "    <tr>\n",
       "      <th>1072</th>\n",
       "      <td>Warangal (Rural)</td>\n",
       "      <td>2018-01-05</td>\n",
       "      <td>May</td>\n",
       "      <td>2018</td>\n",
       "      <td>22100</td>\n",
       "    </tr>\n",
       "  </tbody>\n",
       "</table>\n",
       "</div>"
      ],
      "text/plain": [
       "               district        date     month  year  visitors\n",
       "276         Sangareddy   2016-01-01   January  2016         0\n",
       "1263         Mancherial  2019-01-04     April  2019     23026\n",
       "996   Rajanna Sircilla   2018-01-01   January  2018   2238074\n",
       "677            Suryapet  2017-01-06      June  2017         0\n",
       "901          Mancherial  2018-01-02  February  2018     38599\n",
       "525         Mahbubnagar  2017-01-10   October  2017    196103\n",
       "1457   Warangal (Rural)  2019-01-12  December  2019     32050\n",
       "634   Rajanna Sircilla   2017-01-11  November  2017   1191129\n",
       "733     Yadadri Bhongir  2017-01-02  February  2017    540500\n",
       "1072   Warangal (Rural)  2018-01-05       May  2018     22100"
      ]
     },
     "execution_count": 86,
     "metadata": {},
     "output_type": "execute_result"
    }
   ],
   "source": [
    "data.sample(10)"
   ]
  },
  {
   "cell_type": "code",
   "execution_count": 87,
   "id": "f9b0bd98",
   "metadata": {},
   "outputs": [],
   "source": [
    "# data.visitors = data.visitors.fillna(0)\n",
    "data.fillna(0, inplace=True)"
   ]
  },
  {
   "cell_type": "code",
   "execution_count": 88,
   "id": "dbebd0fb",
   "metadata": {},
   "outputs": [
    {
     "data": {
      "text/html": [
       "<div>\n",
       "<style scoped>\n",
       "    .dataframe tbody tr th:only-of-type {\n",
       "        vertical-align: middle;\n",
       "    }\n",
       "\n",
       "    .dataframe tbody tr th {\n",
       "        vertical-align: top;\n",
       "    }\n",
       "\n",
       "    .dataframe thead th {\n",
       "        text-align: right;\n",
       "    }\n",
       "</style>\n",
       "<table border=\"1\" class=\"dataframe\">\n",
       "  <thead>\n",
       "    <tr style=\"text-align: right;\">\n",
       "      <th></th>\n",
       "      <th>district</th>\n",
       "      <th>date</th>\n",
       "      <th>month</th>\n",
       "      <th>year</th>\n",
       "      <th>visitors</th>\n",
       "    </tr>\n",
       "  </thead>\n",
       "  <tbody>\n",
       "    <tr>\n",
       "      <th>897</th>\n",
       "      <td>Mahbubnagar</td>\n",
       "      <td>2018-01-10</td>\n",
       "      <td>October</td>\n",
       "      <td>2018</td>\n",
       "      <td>193152</td>\n",
       "    </tr>\n",
       "    <tr>\n",
       "      <th>902</th>\n",
       "      <td>Mancherial</td>\n",
       "      <td>2018-01-03</td>\n",
       "      <td>March</td>\n",
       "      <td>2018</td>\n",
       "      <td>20749</td>\n",
       "    </tr>\n",
       "    <tr>\n",
       "      <th>648</th>\n",
       "      <td>Sangareddy</td>\n",
       "      <td>2017-01-01</td>\n",
       "      <td>January</td>\n",
       "      <td>2017</td>\n",
       "      <td>195000</td>\n",
       "    </tr>\n",
       "    <tr>\n",
       "      <th>1288</th>\n",
       "      <td>Medchal</td>\n",
       "      <td>2019-01-05</td>\n",
       "      <td>May</td>\n",
       "      <td>2019</td>\n",
       "      <td>0</td>\n",
       "    </tr>\n",
       "    <tr>\n",
       "      <th>660</th>\n",
       "      <td>Siddipet</td>\n",
       "      <td>2017-01-01</td>\n",
       "      <td>January</td>\n",
       "      <td>2017</td>\n",
       "      <td>80500</td>\n",
       "    </tr>\n",
       "    <tr>\n",
       "      <th>768</th>\n",
       "      <td>Hyderabad</td>\n",
       "      <td>2018-01-01</td>\n",
       "      <td>January</td>\n",
       "      <td>2018</td>\n",
       "      <td>1978396</td>\n",
       "    </tr>\n",
       "    <tr>\n",
       "      <th>224</th>\n",
       "      <td>Nirmal</td>\n",
       "      <td>2016-01-09</td>\n",
       "      <td>September</td>\n",
       "      <td>2016</td>\n",
       "      <td>0</td>\n",
       "    </tr>\n",
       "    <tr>\n",
       "      <th>882</th>\n",
       "      <td>Mahabubabad</td>\n",
       "      <td>2018-01-07</td>\n",
       "      <td>July</td>\n",
       "      <td>2018</td>\n",
       "      <td>13970</td>\n",
       "    </tr>\n",
       "    <tr>\n",
       "      <th>309</th>\n",
       "      <td>Suryapet</td>\n",
       "      <td>2016-01-10</td>\n",
       "      <td>October</td>\n",
       "      <td>2016</td>\n",
       "      <td>0</td>\n",
       "    </tr>\n",
       "    <tr>\n",
       "      <th>122</th>\n",
       "      <td>Komaram Bheem Asifabad</td>\n",
       "      <td>2016-01-03</td>\n",
       "      <td>March</td>\n",
       "      <td>2016</td>\n",
       "      <td>0</td>\n",
       "    </tr>\n",
       "  </tbody>\n",
       "</table>\n",
       "</div>"
      ],
      "text/plain": [
       "                    district        date      month  year  visitors\n",
       "897              Mahbubnagar  2018-01-10    October  2018    193152\n",
       "902               Mancherial  2018-01-03      March  2018     20749\n",
       "648              Sangareddy   2017-01-01    January  2017    195000\n",
       "1288                Medchal   2019-01-05        May  2019         0\n",
       "660                 Siddipet  2017-01-01    January  2017     80500\n",
       "768                Hyderabad  2018-01-01    January  2018   1978396\n",
       "224                   Nirmal  2016-01-09  September  2016         0\n",
       "882             Mahabubabad   2018-01-07       July  2018     13970\n",
       "309                 Suryapet  2016-01-10    October  2016         0\n",
       "122   Komaram Bheem Asifabad  2016-01-03      March  2016         0"
      ]
     },
     "execution_count": 88,
     "metadata": {},
     "output_type": "execute_result"
    }
   ],
   "source": [
    "data.sample(10)"
   ]
  },
  {
   "cell_type": "code",
   "execution_count": null,
   "id": "8c967e4e",
   "metadata": {},
   "outputs": [],
   "source": []
  }
 ],
 "metadata": {
  "kernelspec": {
   "display_name": "Python 3 (ipykernel)",
   "language": "python",
   "name": "python3"
  },
  "language_info": {
   "codemirror_mode": {
    "name": "ipython",
    "version": 3
   },
   "file_extension": ".py",
   "mimetype": "text/x-python",
   "name": "python",
   "nbconvert_exporter": "python",
   "pygments_lexer": "ipython3",
   "version": "3.10.7"
  }
 },
 "nbformat": 4,
 "nbformat_minor": 5
}
